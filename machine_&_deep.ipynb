{
  "nbformat": 4,
  "nbformat_minor": 0,
  "metadata": {
    "colab": {
      "name": "machine & deep",
      "provenance": [],
      "authorship_tag": "ABX9TyPfxEHB2Co+WL3xxixZUwzf",
      "include_colab_link": true
    },
    "kernelspec": {
      "name": "python3",
      "display_name": "Python 3"
    }
  },
  "cells": [
    {
      "cell_type": "markdown",
      "metadata": {
        "id": "view-in-github",
        "colab_type": "text"
      },
      "source": [
        "<a href=\"https://colab.research.google.com/github/gohjungho/AIBasic/blob/main/machine_%26_deep.ipynb\" target=\"_parent\"><img src=\"https://colab.research.google.com/assets/colab-badge.svg\" alt=\"Open In Colab\"/></a>"
      ]
    },
    {
      "cell_type": "code",
      "metadata": {
        "id": "GcYvS-SVnyLx",
        "colab": {
          "base_uri": "https://localhost:8080/"
        },
        "outputId": "d937e9ca-c9aa-48bf-9f92-80a6b55e8287"
      },
      "source": [
        "!cat /proc/cpuinfo"
      ],
      "execution_count": null,
      "outputs": [
        {
          "output_type": "stream",
          "text": [
            "processor\t: 0\n",
            "vendor_id\t: GenuineIntel\n",
            "cpu family\t: 6\n",
            "model\t\t: 79\n",
            "model name\t: Intel(R) Xeon(R) CPU @ 2.20GHz\n",
            "stepping\t: 0\n",
            "microcode\t: 0x1\n",
            "cpu MHz\t\t: 2199.998\n",
            "cache size\t: 56320 KB\n",
            "physical id\t: 0\n",
            "siblings\t: 2\n",
            "core id\t\t: 0\n",
            "cpu cores\t: 1\n",
            "apicid\t\t: 0\n",
            "initial apicid\t: 0\n",
            "fpu\t\t: yes\n",
            "fpu_exception\t: yes\n",
            "cpuid level\t: 13\n",
            "wp\t\t: yes\n",
            "flags\t\t: fpu vme de pse tsc msr pae mce cx8 apic sep mtrr pge mca cmov pat pse36 clflush mmx fxsr sse sse2 ss ht syscall nx pdpe1gb rdtscp lm constant_tsc rep_good nopl xtopology nonstop_tsc cpuid tsc_known_freq pni pclmulqdq ssse3 fma cx16 pcid sse4_1 sse4_2 x2apic movbe popcnt aes xsave avx f16c rdrand hypervisor lahf_lm abm 3dnowprefetch invpcid_single ssbd ibrs ibpb stibp fsgsbase tsc_adjust bmi1 hle avx2 smep bmi2 erms invpcid rtm rdseed adx smap xsaveopt arat md_clear arch_capabilities\n",
            "bugs\t\t: cpu_meltdown spectre_v1 spectre_v2 spec_store_bypass l1tf mds swapgs taa\n",
            "bogomips\t: 4399.99\n",
            "clflush size\t: 64\n",
            "cache_alignment\t: 64\n",
            "address sizes\t: 46 bits physical, 48 bits virtual\n",
            "power management:\n",
            "\n",
            "processor\t: 1\n",
            "vendor_id\t: GenuineIntel\n",
            "cpu family\t: 6\n",
            "model\t\t: 79\n",
            "model name\t: Intel(R) Xeon(R) CPU @ 2.20GHz\n",
            "stepping\t: 0\n",
            "microcode\t: 0x1\n",
            "cpu MHz\t\t: 2199.998\n",
            "cache size\t: 56320 KB\n",
            "physical id\t: 0\n",
            "siblings\t: 2\n",
            "core id\t\t: 0\n",
            "cpu cores\t: 1\n",
            "apicid\t\t: 1\n",
            "initial apicid\t: 1\n",
            "fpu\t\t: yes\n",
            "fpu_exception\t: yes\n",
            "cpuid level\t: 13\n",
            "wp\t\t: yes\n",
            "flags\t\t: fpu vme de pse tsc msr pae mce cx8 apic sep mtrr pge mca cmov pat pse36 clflush mmx fxsr sse sse2 ss ht syscall nx pdpe1gb rdtscp lm constant_tsc rep_good nopl xtopology nonstop_tsc cpuid tsc_known_freq pni pclmulqdq ssse3 fma cx16 pcid sse4_1 sse4_2 x2apic movbe popcnt aes xsave avx f16c rdrand hypervisor lahf_lm abm 3dnowprefetch invpcid_single ssbd ibrs ibpb stibp fsgsbase tsc_adjust bmi1 hle avx2 smep bmi2 erms invpcid rtm rdseed adx smap xsaveopt arat md_clear arch_capabilities\n",
            "bugs\t\t: cpu_meltdown spectre_v1 spectre_v2 spec_store_bypass l1tf mds swapgs taa\n",
            "bogomips\t: 4399.99\n",
            "clflush size\t: 64\n",
            "cache_alignment\t: 64\n",
            "address sizes\t: 46 bits physical, 48 bits virtual\n",
            "power management:\n",
            "\n"
          ],
          "name": "stdout"
        }
      ]
    },
    {
      "cell_type": "code",
      "metadata": {
        "id": "T_rB1Eusn1Ph",
        "colab": {
          "base_uri": "https://localhost:8080/"
        },
        "outputId": "66cbf63e-b77c-4d0a-a089-9fe56dd42e86"
      },
      "source": [
        "# LinearSVC 알고리즘으로 AND 연산 프로그램 만들기 \n",
        "\n",
        "# 라이브러리 읽어들이기 \n",
        "from sklearn.svm import LinearSVC\n",
        "from sklearn.metrics import accuracy_score\n",
        "\n",
        "# 학습 전용 데이터와 결과 준비하기 \n",
        "# X, Y \n",
        "learn_data = [[0,0], [1,0], [0,1], [1,1]]\n",
        "# X and Y \n",
        "learn_label = [0,0,0,1]\n",
        "\n",
        "# 알고리즘 지정하기(LinearSVC) \n",
        "clf = LinearSVC() \n",
        "\n",
        "# 학습 전용 데이터와 결과 학습하기 \n",
        "clf.fit(learn_data, learn_label)"
      ],
      "execution_count": null,
      "outputs": [
        {
          "output_type": "execute_result",
          "data": {
            "text/plain": [
              "LinearSVC(C=1.0, class_weight=None, dual=True, fit_intercept=True,\n",
              "          intercept_scaling=1, loss='squared_hinge', max_iter=1000,\n",
              "          multi_class='ovr', penalty='l2', random_state=None, tol=0.0001,\n",
              "          verbose=0)"
            ]
          },
          "metadata": {
            "tags": []
          },
          "execution_count": 2
        }
      ]
    },
    {
      "cell_type": "code",
      "metadata": {
        "id": "kKIrg-brv4Md"
      },
      "source": [
        "# 테스트 데이터로 예측하기 \n",
        "test_data = [[0,0], [1,0], [0,1], [1,1]]\n",
        "test_label = clf.predict(test_data)"
      ],
      "execution_count": null,
      "outputs": []
    },
    {
      "cell_type": "code",
      "metadata": {
        "colab": {
          "base_uri": "https://localhost:8080/"
        },
        "id": "yMsN_JuswIBm",
        "outputId": "10d441b1-19a1-4e90-a3cf-8bebadd78a8a"
      },
      "source": [
        "# 예측 결과 평가하기 \n",
        "print(test_data, \"의 예측 결과: \", test_label)\n",
        "print(\"정답률 = \", accuracy_score([0,0,0,1], test_label))"
      ],
      "execution_count": null,
      "outputs": [
        {
          "output_type": "stream",
          "text": [
            "[[0, 0], [1, 0], [0, 1], [1, 1]] 의 예측 결과:  [0 0 0 1]\n",
            "정답률 =  1.0\n"
          ],
          "name": "stdout"
        }
      ]
    },
    {
      "cell_type": "code",
      "metadata": {
        "id": "-dF0xmS0wXod"
      },
      "source": [
        "# 테스트 결과 평가가 잘 나오지 않을 XOR 연산 계산해보기 \n",
        "\n",
        "# 라이브러리 읽어들이기 \n",
        "from sklearn.svm import LinearSVC\n",
        "from sklearn.metrics import accuracy_score \n",
        "\n",
        "# 학습 전용 데이터와 결과 준비하기 \n",
        "# X, Y \n",
        "learn_data = [[0,0], [1,0], [0,1], [1,1]]\n",
        "# X xor Y\n",
        "learn_label = [0,1,1,0] # (*) xor 전용 레이블로 변경 "
      ],
      "execution_count": null,
      "outputs": []
    },
    {
      "cell_type": "code",
      "metadata": {
        "id": "VB42tdDoydr3"
      },
      "source": [
        "# 알고리즘 지정하기 (LinearSVC) \n",
        "clf = LinearSVC()"
      ],
      "execution_count": null,
      "outputs": []
    },
    {
      "cell_type": "code",
      "metadata": {
        "id": "33Uj7db8ylJP"
      },
      "source": [
        "# 학습 전용 데이터와 결과 학습하기 \n",
        "clf.fit(learn_data, learn_label)\n",
        "\n",
        "# 테스트 데이터로 예측하기 \n",
        "test_data = [[0,0], [1,0], [0,1], [1,1]]\n",
        "test_label = clf.predict(test_data)"
      ],
      "execution_count": null,
      "outputs": []
    },
    {
      "cell_type": "code",
      "metadata": {
        "colab": {
          "base_uri": "https://localhost:8080/"
        },
        "id": "dtA5lo-gy4sC",
        "outputId": "b9bb4778-dc70-4e7e-eb3c-7e66f2eb4e7a"
      },
      "source": [
        "# 테스트 결과 평가하기 \n",
        "print(test_data, \"의 예측 결과: \", test_label)\n",
        "print(\"정답률 = \", accuracy_score([0,1,1,0], test_label)) # (*) xor 전용 레이블로 변경 "
      ],
      "execution_count": null,
      "outputs": [
        {
          "output_type": "stream",
          "text": [
            "[[0, 0], [1, 0], [0, 1], [1, 1]] 의 예측 결과:  [1 1 1 1]\n",
            "정답률 =  0.5\n"
          ],
          "name": "stdout"
        }
      ]
    },
    {
      "cell_type": "code",
      "metadata": {
        "colab": {
          "base_uri": "https://localhost:8080/"
        },
        "id": "qIpwuX9IzJ8w",
        "outputId": "960374e5-274d-4df7-9009-cfe4fde178b4"
      },
      "source": [
        "# KNeighborsClassifier 알고리즘 사용해 보기  \n",
        "\n",
        "# 라이브러리 읽어들이기 \n",
        "from sklearn.neighbors import KNeighborsClassifier\n",
        "from sklearn.metrics import accuracy_score \n",
        "\n",
        "# 학습 전용 데이터와 결과 준비하기 \n",
        "# X, Y \n",
        "learn_data = [[0,0], [1,0], [0,1], [1,1]]\n",
        "# X xor Y\n",
        "learn_label = [0,1,1,0] # (*) xor 전용 레이블로 변경 \n",
        "\n",
        "# 알고리즘 지정하기 (KNeighborsClassifier) \n",
        "clf = KNeighborsClassifier(n_neighbors = 1)\n",
        "\n",
        "# 학습 전용 데이터와 결과 학습하기 \n",
        "clf.fit(learn_data, learn_label)\n",
        "\n",
        "# 테스트 데이터로 예측하기 \n",
        "test_data = [[0,0], [1,0], [0,1], [1,1]]\n",
        "test_label = clf.predict(test_data)\n",
        "\n",
        "# 테스트 결과 평가하기 \n",
        "print(test_data, \"의 예측 결과: \", test_label)\n",
        "print(\"정답률 = \", accuracy_score([0,1,1,0], test_label)) # (*) xor 전용 레이블로 변경 "
      ],
      "execution_count": null,
      "outputs": [
        {
          "output_type": "stream",
          "text": [
            "[[0, 0], [1, 0], [0, 1], [1, 1]] 의 예측 결과:  [0 1 1 0]\n",
            "정답률 =  1.0\n"
          ],
          "name": "stdout"
        }
      ]
    },
    {
      "cell_type": "code",
      "metadata": {
        "id": "HIXs1etQ0dBU",
        "colab": {
          "base_uri": "https://localhost:8080/",
          "height": 203
        },
        "outputId": "fd6f0113-6d5f-4142-f974-2345683400d8"
      },
      "source": [
        "# 붓꽃 데이터를 사용해 머신러닝 하기 \n",
        "import pandas as pd\n",
        "\n",
        "# 파일 불러오기 \n",
        "iris_data = pd.read_csv('iris.csv')\n",
        "iris_data.head()"
      ],
      "execution_count": null,
      "outputs": [
        {
          "output_type": "execute_result",
          "data": {
            "text/html": [
              "<div>\n",
              "<style scoped>\n",
              "    .dataframe tbody tr th:only-of-type {\n",
              "        vertical-align: middle;\n",
              "    }\n",
              "\n",
              "    .dataframe tbody tr th {\n",
              "        vertical-align: top;\n",
              "    }\n",
              "\n",
              "    .dataframe thead th {\n",
              "        text-align: right;\n",
              "    }\n",
              "</style>\n",
              "<table border=\"1\" class=\"dataframe\">\n",
              "  <thead>\n",
              "    <tr style=\"text-align: right;\">\n",
              "      <th></th>\n",
              "      <th>SepalLength</th>\n",
              "      <th>SepalWidth</th>\n",
              "      <th>PetalLength</th>\n",
              "      <th>PetalWidth</th>\n",
              "      <th>Name</th>\n",
              "    </tr>\n",
              "  </thead>\n",
              "  <tbody>\n",
              "    <tr>\n",
              "      <th>0</th>\n",
              "      <td>5.1</td>\n",
              "      <td>3.5</td>\n",
              "      <td>1.4</td>\n",
              "      <td>0.2</td>\n",
              "      <td>Iris-setosa</td>\n",
              "    </tr>\n",
              "    <tr>\n",
              "      <th>1</th>\n",
              "      <td>4.9</td>\n",
              "      <td>3.0</td>\n",
              "      <td>1.4</td>\n",
              "      <td>0.2</td>\n",
              "      <td>Iris-setosa</td>\n",
              "    </tr>\n",
              "    <tr>\n",
              "      <th>2</th>\n",
              "      <td>4.7</td>\n",
              "      <td>3.2</td>\n",
              "      <td>1.3</td>\n",
              "      <td>0.2</td>\n",
              "      <td>Iris-setosa</td>\n",
              "    </tr>\n",
              "    <tr>\n",
              "      <th>3</th>\n",
              "      <td>4.6</td>\n",
              "      <td>3.1</td>\n",
              "      <td>1.5</td>\n",
              "      <td>0.2</td>\n",
              "      <td>Iris-setosa</td>\n",
              "    </tr>\n",
              "    <tr>\n",
              "      <th>4</th>\n",
              "      <td>5.0</td>\n",
              "      <td>3.6</td>\n",
              "      <td>1.4</td>\n",
              "      <td>0.2</td>\n",
              "      <td>Iris-setosa</td>\n",
              "    </tr>\n",
              "  </tbody>\n",
              "</table>\n",
              "</div>"
            ],
            "text/plain": [
              "   SepalLength  SepalWidth  PetalLength  PetalWidth         Name\n",
              "0          5.1         3.5          1.4         0.2  Iris-setosa\n",
              "1          4.9         3.0          1.4         0.2  Iris-setosa\n",
              "2          4.7         3.2          1.3         0.2  Iris-setosa\n",
              "3          4.6         3.1          1.5         0.2  Iris-setosa\n",
              "4          5.0         3.6          1.4         0.2  Iris-setosa"
            ]
          },
          "metadata": {
            "tags": []
          },
          "execution_count": 12
        }
      ]
    },
    {
      "cell_type": "code",
      "metadata": {
        "id": "LDc1U40t0c9L"
      },
      "source": [
        "import pandas as pd \n",
        "from sklearn.model_selection import train_test_split\n",
        "from sklearn.svm import SVC\n",
        "from sklearn.metrics import accuracy_score\n",
        "\n",
        "# 붓꽃 데이터 읽어 들이기 \n",
        "iris_data = pd.read_csv('iris.csv')\n",
        "\n",
        "# 붓꽃 데이터를 레이블과 입력 데이터로 분리하기 \n",
        "# loc은 열 단위, train_test_split은 행 단위로 분리\n",
        "y = iris_data.loc[:, \"Name\"]\n",
        "x = iris_data.loc[:, [\"SepalLength\",\t\"SepalWidth\",\t\"PetalLength\",\t\"PetalWidth\"]]"
      ],
      "execution_count": null,
      "outputs": []
    },
    {
      "cell_type": "code",
      "metadata": {
        "id": "a7lhMZNTJkL0"
      },
      "source": [
        "# 학습 전용과 테스트 전용 분리하기 \n",
        "x_train, x_test, y_train, y_test = train_test_split(x, y, test_size = 0.2, train_size = 0.8, shuffle = True)"
      ],
      "execution_count": null,
      "outputs": []
    },
    {
      "cell_type": "code",
      "metadata": {
        "id": "euIf0AaRJ_xY"
      },
      "source": [
        "# 학습하기 (clf라는 이름의 모델 제작)\n",
        "clf = SVC()\n",
        "clf.fit(x_train, y_train) \n",
        "# fit(): 학습 전용과 결과 전용 배열을 데이터로 지정해 학습 "
      ],
      "execution_count": null,
      "outputs": []
    },
    {
      "cell_type": "markdown",
      "metadata": {
        "id": "arlFcLtzL_hS"
      },
      "source": [
        ""
      ]
    },
    {
      "cell_type": "code",
      "metadata": {
        "id": "Tf66zS8AKPt_"
      },
      "source": [
        "# 평가하기 \n",
        "y_pred = clf.predict(x_test)\n",
        "# predict(): 테스트 데이터 배열을 지정하면 예측 결과를 반환 \n",
        "print(\"정답률 = \", accuracy_score(y_test, y_pred))\n",
        "# accuracy_score(): 실제 결과와 예측 결과를 지정하면 정답률을 반환 "
      ],
      "execution_count": null,
      "outputs": []
    },
    {
      "cell_type": "code",
      "metadata": {
        "id": "54UPyDZtKeEU"
      },
      "source": [
        "# AI로 맛있는 와인 판정하기 \n",
        "\n",
        "df = pd.read_csv('winequality-white.csv', sep=';')\n",
        "df\n",
        "\n",
        "# fixed acidity: 산성도\t volatile acidity: 휘발성 산도\tcitric acid: 시트르산 \t\n",
        "# residual sugar: 잔류당 \tchlorides: 염화물\t free sulfur dioxide: 유리 이산화황\t\n",
        "# total sulfur dioxide: 총 이산화황 \tdensity: 밀도 \tpH: pH\t\n",
        "# sulphates: 황산염 \talcohol: 알코올 \tquality: 품질(0:나쁜-10:좋음) "
      ],
      "execution_count": null,
      "outputs": []
    },
    {
      "cell_type": "code",
      "metadata": {
        "id": "SpGoTg1_NOUk"
      },
      "source": [
        "# 와인의 품질 판정하기 \n",
        "# 랜덤포레스트 사용 \n",
        "\n",
        "import pandas as pd \n",
        "from sklearn.model_selection import train_test_split\n",
        "from sklearn.ensemble import RandomForestClassifier\n",
        "from sklearn.metrics import accuracy_score\n",
        "from sklearn.metrics import classification_report\n",
        "\n",
        "# 데이터 불러오기 \n",
        "wine = pd.read_csv(\"winequality-white.csv\", sep=\";\", encoding=\"utf-8\")\n",
        "\n",
        "# 데이터를 레이블과 데이터로 분리하기 \n",
        "y = wine[\"quality\"]\n",
        "x = wine.drop(\"quality\", axis = 1)\n",
        "\n",
        "# 학습 전용과 테스트 전용으로 분리하기 \n",
        "x_train, x_test, y_train, y_test = train_test_split(x, y, test_size = 0.2)\n",
        "\n",
        "# 학습하기 \n",
        "model = RandomForestClassifier()\n",
        "model.fit(x_train, y_train)\n",
        "\n",
        "# 평가하기 \n",
        "y_pred = model.predict(x_test)\n",
        "print(classification_report(y_test, y_pred))\n",
        "print(\"정답률 = \", accuracy_score(y_test, y_pred))\n",
        "\n",
        "# precision: 정답률  recall: 재현율 \n",
        "# f1-score: 정답률과 재현율의 조화평균  support: 정답 레이블 데이터 수 \n",
        "\n",
        "# 맨 아래에 저장된 데이터의 등급 수 분포가 다를 수 있다는 경고문이 뜸 .. "
      ],
      "execution_count": null,
      "outputs": []
    },
    {
      "cell_type": "code",
      "metadata": {
        "id": "cG7fpMIGQxhE"
      },
      "source": [
        "# 품질(quality) 데이터가 몇 개씩 있는지 확인해 보자\n",
        "\n",
        "import matplotlib.pyplot as plt\n",
        "\n",
        "# 와인 데이터 불러오기 \n",
        "wine = pd.read_csv(\"winequality-white.csv\", sep=\";\")\n",
        "\n",
        "# 품질 데이터별로 그룹을 나누고 수 세어보기 \n",
        "count_data = wine.groupby('quality')[\"quality\"].count()\n",
        "print(count_data)\n",
        "\n",
        "# 수를 그래프로 그리기 \n",
        "count_data.plot()\n",
        "plt.savefig(\"wine-count-plt.png\") # 출력한 데이터를 파일로 저장 \n",
        "plt.show()"
      ],
      "execution_count": null,
      "outputs": []
    },
    {
      "cell_type": "code",
      "metadata": {
        "id": "fQ1bGCkvV-Mx"
      },
      "source": [
        "# 11등급의 데이터를 3개로 분류하자 \n",
        "\n",
        "# y레이블 변경하기 \n",
        "newlist = []\n",
        "for v in list(y):\n",
        "  if v <= 4:\n",
        "    newlist += [0]\n",
        "  elif v <= 7:\n",
        "    newlist += [1]\n",
        "  else: \n",
        "    newlist += [2]\n",
        "y = newlist"
      ],
      "execution_count": null,
      "outputs": []
    },
    {
      "cell_type": "code",
      "metadata": {
        "id": "Amto1-kEXMxR"
      },
      "source": [
        "# 지금까지 내용을 조합해 완전한 프로그램을 만들어 보자 \n",
        "\n",
        "import pandas as pd \n",
        "from sklearn.model_selection import train_test_split\n",
        "from sklearn.ensemble import RandomForestClassifier\n",
        "from sklearn.metrics import accuracy_score\n",
        "from sklearn.metrics import classification_report\n",
        "\n",
        "# 데이터 불러오기 \n",
        "wine = pd.read_csv(\"winequality-white.csv\", sep=\";\", encoding=\"utf-8\")\n",
        "\n",
        "# 데이터를 레이블과 데이터로 분리하기 \n",
        "y = wine[\"quality\"]\n",
        "x = wine.drop(\"quality\", axis = 1)\n",
        "\n",
        "# y레이블 변경하기 \n",
        "newlist = []\n",
        "for v in list(y):\n",
        "  if v <= 4:\n",
        "    newlist += [0]\n",
        "  elif v <= 7:\n",
        "    newlist += [1]\n",
        "  else: \n",
        "    newlist += [2]\n",
        "y = newlist\n",
        "\n",
        "# 학습 전용과 테스트 전용으로 분리하기 \n",
        "x_train, x_test, y_train, y_test = train_test_split(x, y, test_size = 0.2)\n",
        "\n",
        "# 학습하기 \n",
        "model = RandomForestClassifier()\n",
        "model.fit(x_train, y_train)\n",
        "\n",
        "# 평가하기 \n",
        "y_pred = model.predict(x_test)\n",
        "print(classification_report(y_test, y_pred))\n",
        "print(\"정답률 = \", accuracy_score(y_test, y_pred))\n",
        "\n",
        "# 와인 데이터를 조금 조정해 정답률을 큰 폭으로 개선했다. "
      ],
      "execution_count": null,
      "outputs": []
    },
    {
      "cell_type": "code",
      "metadata": {
        "id": "OKpsZ54zXtM9"
      },
      "source": [
        "# 2-4. 과거 10년 동안의 기상 데이터 분석하기 "
      ],
      "execution_count": null,
      "outputs": []
    },
    {
      "cell_type": "code",
      "metadata": {
        "id": "687KVaMeY958"
      },
      "source": [
        "in_file = \"data.csv\"\n",
        "out_file = \"tem10y.csv\"\n",
        "# CSV 파일을 한 줄 씩 읽어 들이기 \n",
        "with open(in_file, \"rt\", encoding=\"EUC-KR\") as fr:\n",
        "  lines = fr.readlines()"
      ],
      "execution_count": null,
      "outputs": []
    },
    {
      "cell_type": "code",
      "metadata": {
        "id": "of4z8u8BaGkG"
      },
      "source": [
        "# 기존의 데이터를 분리해서 가공하기 \n",
        "lines = [\"연, 월, 일, 기온, 품질, 균질\\n\"] + lines[5:]\n",
        "lines = map(lambda v: v.replace('/', ','), lines)\n",
        "result = \"\".join(lines).strip()\n",
        "print(result)"
      ],
      "execution_count": null,
      "outputs": []
    },
    {
      "cell_type": "code",
      "metadata": {
        "id": "u1FLI15faptQ"
      },
      "source": [
        "# 결과를 파일에 출력하기 \n",
        "with open(out_file, \"wt\", encoding=\"utf-8\") as fw:\n",
        "  fw.write(result)\n",
        "  print(\"saved.\")"
      ],
      "execution_count": null,
      "outputs": []
    },
    {
      "cell_type": "code",
      "metadata": {
        "id": "bJRmSjFta4hR"
      },
      "source": [
        "# 분석 대상 데이터(tem10y.csv) 분석하기 \n",
        "# 각 연월의 평균 기온을 구해보자 \n",
        "\n",
        "import pandas as pd \n",
        "\n",
        "# Pandas로 CSV 파일 읽어 들이기 \n",
        "df = pd.read_csv(\"tem10y.csv\", encoding=\"utf-8\")\n",
        "\n",
        "# 날짜별 기온을 리스트에 넣기 \n",
        "md = {}\n",
        "for i, row in df.iterrows():\n",
        "  m, d, v = (int(row['월']), int(row['일']), float(row['기온']))\n",
        "  key = str(m) + \"/\" + str(d)\n",
        "  if not(key in md): md[key] = [] \n",
        "  md[key] += [v]\n",
        "\n",
        "# 날짜별 평균 구하기 \n",
        "avs = {} \n",
        "for key in md: \n",
        "  v = avs[key] = sum(md[key]) / len(md[key]) \n",
        "  print(\"{0} : {1}\".format(key, v))"
      ],
      "execution_count": null,
      "outputs": []
    },
    {
      "cell_type": "code",
      "metadata": {
        "id": "4nRGRY17dBC9"
      },
      "source": [
        "# 월별 평균 기온 구하기 \n",
        "\n",
        "import matplotlib.pyplot as plt\n",
        "import pandas as pd\n",
        "\n",
        "# CSV 파일 불러오기 \n",
        "df = pd.read_csv(\"tem10y.csv\")\n",
        "\n",
        "# 월별 평균 구하기 \n",
        "g = df.groupby([\"월\"])[\"기온\"]\n",
        "gg = g.sum() / g.count()\n",
        "\n",
        "# 결과 출력하기 \n",
        "print(gg)\n",
        "gg.plot()\n",
        "plt.savefig(\"tem-month-avg.png\")\n",
        "plt.show()"
      ],
      "execution_count": null,
      "outputs": []
    },
    {
      "cell_type": "code",
      "metadata": {
        "id": "uTL9hohKeRmh"
      },
      "source": [
        "# 기온이 30도 넘는 날 구하기 - pandas 필터 \n",
        "\n",
        "# 온도가 30도를 넘는 데이터 확인하기 \n",
        "hot_bool = (df[\"기온\"] > 30)\n",
        "\n",
        "# 데이터 추출하기 \n",
        "hot = df[hot_bool] \n",
        "\n",
        "# 연별로 세기 \n",
        "cnt = hot.groupby([\"연\"])[\"연\"].count()\n",
        "\n",
        "# 출력하기 \n",
        "print(cnt)\n",
        "cnt.plot()\n",
        "plt.savefig(\"tem-over30.png\")\n",
        "plt.show()"
      ],
      "execution_count": null,
      "outputs": []
    },
    {
      "cell_type": "code",
      "metadata": {
        "id": "pU3XUddokbiC"
      },
      "source": [
        "# 회귀 분석으로 내일 기온 예측하기 \n",
        "\n",
        "from sklearn.linear_model import LinearRegression # 예측할 때 많이 사용 \n",
        "import pandas as pd \n",
        "import numpy as np \n",
        "import matplotlib.pyplot as plt\n",
        "\n",
        "# 기온 데이터 불러오기 \n",
        "df = pd.read_csv('tem10y.csv')\n",
        "\n",
        "# 데이터를 학습 전용과 테스트 전용으로 분리하기 \n",
        "train_year = (df[\"연\"] <= 2015)\n",
        "test_year = (df[\"연\"] >= 2016)\n",
        "interval = 6\n",
        "\n",
        "# 과거 6일의 데이터를 기반으로 학습할 데이터 만들기 \n",
        "def make_data(data): \n",
        "  x = [] # 학습 데이터 \n",
        "  y = [] # 결과 \n",
        "  temps = list(data[\"기온\"])\n",
        "  for i in range(len(temps)):\n",
        "    if i < interval: continue \n",
        "    y.append(temps[i])\n",
        "    xa = []\n",
        "    for p in range(interval):\n",
        "      d = i + p - interval \n",
        "      xa.append(temps[d])\n",
        "    x.append(xa)\n",
        "  return (x, y) \n",
        "    \n",
        "train_x, train_y = make_data(df[train_year])\n",
        "test_x, test_y = make_data(df[test_year])\n",
        "\n",
        "# 직선 회귀 분석하기 \n",
        "lr = LinearRegression(normalize = True)\n",
        "lr.fit(train_x, train_y) # 학습하기 \n",
        "pre_y = lr.predict(test_x) # 예측하기 \n",
        "\n",
        "# 결과를 그래프에 그리기 \n",
        "plt.figure(figsize = (10, 6), dpi = 100)\n",
        "plt.plot(test_y, c = 'r')\n",
        "plt.plot(pre_y, c = 'b')\n",
        "plt.savefig('weather-tem-lr.png')\n",
        "plt.show()"
      ],
      "execution_count": null,
      "outputs": []
    },
    {
      "cell_type": "code",
      "metadata": {
        "id": "CAo2R6YMm16F"
      },
      "source": [
        "# 실행 결과 평가하기 \n",
        "# 앞 프로그램을 실행한 직후 실행\n",
        "\n",
        "# 예측 기온 - 실제 기온 \n",
        "pre_y - test_y"
      ],
      "execution_count": null,
      "outputs": []
    },
    {
      "cell_type": "code",
      "metadata": {
        "id": "ju_3yAJbnIBV"
      },
      "source": [
        "# 오차 확인 \n",
        "diff_y = abs(pre_y - test_y)\n",
        "print(\"average = \", sum(diff_y) / len(diff_y))\n",
        "print(\"max = \", max(diff_y))"
      ],
      "execution_count": null,
      "outputs": []
    },
    {
      "cell_type": "code",
      "metadata": {
        "id": "HECHJEO-pnUR"
      },
      "source": [
        "# 2-5. 최적의 알고리즘과 매개변수 찾기 \n",
        "\n",
        "# 각 알고리즘의 정답률 비교하기 \n",
        "\n",
        "import pandas as pd\n",
        "from sklearn.model_selection import train_test_split\n",
        "from sklearn.metrics import accuracy_score\n",
        "import warnings\n",
        "from sklearn.utils.testing import all_estimators\n",
        "\n",
        "# 붓꽃 데이터 불러오기 \n",
        "iris_data = pd.read_csv(\"iris.csv\")"
      ],
      "execution_count": null,
      "outputs": []
    },
    {
      "cell_type": "code",
      "metadata": {
        "id": "JbTj0PSEcpyx"
      },
      "source": [
        "# 붓꽃 데이터를 레이블과 입력 데이터로 분리하기 \n",
        "y = iris_data.loc[:, \"Name\"]\n",
        "x = iris_data.loc[:, [\"SepalLength\", \"SepalWidth\", \"PetalLength\", \"PetalWidth\"]]"
      ],
      "execution_count": null,
      "outputs": []
    },
    {
      "cell_type": "code",
      "metadata": {
        "id": "kSrVBWuNcr0A"
      },
      "source": [
        "# 학습 전용과 테스트 전용으로 분리하기 \n",
        "x_train, x_test, y_train, y_test = train_test_split(x, y, test_size = 0.2, \n",
        "                                                    train_size = 0.8, shuffle = True)"
      ],
      "execution_count": null,
      "outputs": []
    },
    {
      "cell_type": "code",
      "metadata": {
        "colab": {
          "base_uri": "https://localhost:8080/",
          "height": 474
        },
        "id": "aAi7KqvHdJE2",
        "outputId": "8e760c52-91f9-427e-f9e4-7eb7e424dba5"
      },
      "source": [
        "# classifier 알고리즘 모두 추출하기 \n",
        "warnings.filterwarnings(\"ignore\")\n",
        "allAlgorithms = all_estimators(type_filter=\"classifier\") # 카테고리(type_filter)를 바꾸면 값도 달라진다.\n",
        "\n",
        "for(name, algorithm) in allAlgorithms:\n",
        "  # 각 알고리즘 객체 생성하기 \n",
        "  clf = algorithm()\n",
        "\n",
        "  # 학습하고 평가하기 \n",
        "  clf.fit(x_train, y_train)\n",
        "  y_pred = clf.predict(x_test)\n",
        "  print(name, \"의 정답률 = \", accuracy_score(y_test, y_pred))"
      ],
      "execution_count": null,
      "outputs": [
        {
          "output_type": "stream",
          "text": [
            "AdaBoostClassifier 의 정답률 =  0.9\n",
            "BaggingClassifier 의 정답률 =  0.9333333333333333\n",
            "BernoulliNB 의 정답률 =  0.26666666666666666\n",
            "CalibratedClassifierCV 의 정답률 =  0.8666666666666667\n",
            "CategoricalNB 의 정답률 =  0.9333333333333333\n"
          ],
          "name": "stdout"
        },
        {
          "output_type": "error",
          "ename": "ValueError",
          "evalue": "ignored",
          "traceback": [
            "\u001b[0;31m---------------------------------------------------------------------------\u001b[0m",
            "\u001b[0;31mValueError\u001b[0m                                Traceback (most recent call last)",
            "\u001b[0;32m<ipython-input-19-9481c0619b5c>\u001b[0m in \u001b[0;36m<module>\u001b[0;34m()\u001b[0m\n\u001b[1;32m      8\u001b[0m \u001b[0;34m\u001b[0m\u001b[0m\n\u001b[1;32m      9\u001b[0m   \u001b[0;31m# 학습하고 평가하기\u001b[0m\u001b[0;34m\u001b[0m\u001b[0;34m\u001b[0m\u001b[0;34m\u001b[0m\u001b[0m\n\u001b[0;32m---> 10\u001b[0;31m   \u001b[0mclf\u001b[0m\u001b[0;34m.\u001b[0m\u001b[0mfit\u001b[0m\u001b[0;34m(\u001b[0m\u001b[0mx_train\u001b[0m\u001b[0;34m,\u001b[0m \u001b[0my_train\u001b[0m\u001b[0;34m)\u001b[0m\u001b[0;34m\u001b[0m\u001b[0;34m\u001b[0m\u001b[0m\n\u001b[0m\u001b[1;32m     11\u001b[0m   \u001b[0my_pred\u001b[0m \u001b[0;34m=\u001b[0m \u001b[0mclf\u001b[0m\u001b[0;34m.\u001b[0m\u001b[0mpredict\u001b[0m\u001b[0;34m(\u001b[0m\u001b[0mx_test\u001b[0m\u001b[0;34m)\u001b[0m\u001b[0;34m\u001b[0m\u001b[0;34m\u001b[0m\u001b[0m\n\u001b[1;32m     12\u001b[0m   \u001b[0mprint\u001b[0m\u001b[0;34m(\u001b[0m\u001b[0mname\u001b[0m\u001b[0;34m,\u001b[0m \u001b[0;34m\"의 정답률 = \"\u001b[0m\u001b[0;34m,\u001b[0m \u001b[0maccuracy_score\u001b[0m\u001b[0;34m(\u001b[0m\u001b[0my_test\u001b[0m\u001b[0;34m,\u001b[0m \u001b[0my_pred\u001b[0m\u001b[0;34m)\u001b[0m\u001b[0;34m)\u001b[0m\u001b[0;34m\u001b[0m\u001b[0;34m\u001b[0m\u001b[0m\n",
            "\u001b[0;32m/usr/local/lib/python3.7/dist-packages/sklearn/utils/_mocking.py\u001b[0m in \u001b[0;36mfit\u001b[0;34m(self, X, y, **fit_params)\u001b[0m\n\u001b[1;32m     93\u001b[0m             \u001b[0;32massert\u001b[0m \u001b[0mself\u001b[0m\u001b[0;34m.\u001b[0m\u001b[0mcheck_y\u001b[0m\u001b[0;34m(\u001b[0m\u001b[0my\u001b[0m\u001b[0;34m)\u001b[0m\u001b[0;34m\u001b[0m\u001b[0;34m\u001b[0m\u001b[0m\n\u001b[1;32m     94\u001b[0m         self.classes_ = np.unique(check_array(y, ensure_2d=False,\n\u001b[0;32m---> 95\u001b[0;31m                                               allow_nd=True))\n\u001b[0m\u001b[1;32m     96\u001b[0m         \u001b[0;32mif\u001b[0m \u001b[0mself\u001b[0m\u001b[0;34m.\u001b[0m\u001b[0mexpected_fit_params\u001b[0m\u001b[0;34m:\u001b[0m\u001b[0;34m\u001b[0m\u001b[0;34m\u001b[0m\u001b[0m\n\u001b[1;32m     97\u001b[0m             \u001b[0mmissing\u001b[0m \u001b[0;34m=\u001b[0m \u001b[0mset\u001b[0m\u001b[0;34m(\u001b[0m\u001b[0mself\u001b[0m\u001b[0;34m.\u001b[0m\u001b[0mexpected_fit_params\u001b[0m\u001b[0;34m)\u001b[0m \u001b[0;34m-\u001b[0m \u001b[0mset\u001b[0m\u001b[0;34m(\u001b[0m\u001b[0mfit_params\u001b[0m\u001b[0;34m)\u001b[0m\u001b[0;34m\u001b[0m\u001b[0;34m\u001b[0m\u001b[0m\n",
            "\u001b[0;32m/usr/local/lib/python3.7/dist-packages/sklearn/utils/validation.py\u001b[0m in \u001b[0;36mcheck_array\u001b[0;34m(array, accept_sparse, accept_large_sparse, dtype, order, copy, force_all_finite, ensure_2d, allow_nd, ensure_min_samples, ensure_min_features, warn_on_dtype, estimator)\u001b[0m\n\u001b[1;32m    529\u001b[0m                     \u001b[0marray\u001b[0m \u001b[0;34m=\u001b[0m \u001b[0marray\u001b[0m\u001b[0;34m.\u001b[0m\u001b[0mastype\u001b[0m\u001b[0;34m(\u001b[0m\u001b[0mdtype\u001b[0m\u001b[0;34m,\u001b[0m \u001b[0mcasting\u001b[0m\u001b[0;34m=\u001b[0m\u001b[0;34m\"unsafe\"\u001b[0m\u001b[0;34m,\u001b[0m \u001b[0mcopy\u001b[0m\u001b[0;34m=\u001b[0m\u001b[0;32mFalse\u001b[0m\u001b[0;34m)\u001b[0m\u001b[0;34m\u001b[0m\u001b[0;34m\u001b[0m\u001b[0m\n\u001b[1;32m    530\u001b[0m                 \u001b[0;32melse\u001b[0m\u001b[0;34m:\u001b[0m\u001b[0;34m\u001b[0m\u001b[0;34m\u001b[0m\u001b[0m\n\u001b[0;32m--> 531\u001b[0;31m                     \u001b[0marray\u001b[0m \u001b[0;34m=\u001b[0m \u001b[0mnp\u001b[0m\u001b[0;34m.\u001b[0m\u001b[0masarray\u001b[0m\u001b[0;34m(\u001b[0m\u001b[0marray\u001b[0m\u001b[0;34m,\u001b[0m \u001b[0morder\u001b[0m\u001b[0;34m=\u001b[0m\u001b[0morder\u001b[0m\u001b[0;34m,\u001b[0m \u001b[0mdtype\u001b[0m\u001b[0;34m=\u001b[0m\u001b[0mdtype\u001b[0m\u001b[0;34m)\u001b[0m\u001b[0;34m\u001b[0m\u001b[0;34m\u001b[0m\u001b[0m\n\u001b[0m\u001b[1;32m    532\u001b[0m             \u001b[0;32mexcept\u001b[0m \u001b[0mComplexWarning\u001b[0m\u001b[0;34m:\u001b[0m\u001b[0;34m\u001b[0m\u001b[0;34m\u001b[0m\u001b[0m\n\u001b[1;32m    533\u001b[0m                 raise ValueError(\"Complex data not supported\\n\"\n",
            "\u001b[0;32m/usr/local/lib/python3.7/dist-packages/numpy/core/_asarray.py\u001b[0m in \u001b[0;36masarray\u001b[0;34m(a, dtype, order)\u001b[0m\n\u001b[1;32m     81\u001b[0m \u001b[0;34m\u001b[0m\u001b[0m\n\u001b[1;32m     82\u001b[0m     \"\"\"\n\u001b[0;32m---> 83\u001b[0;31m     \u001b[0;32mreturn\u001b[0m \u001b[0marray\u001b[0m\u001b[0;34m(\u001b[0m\u001b[0ma\u001b[0m\u001b[0;34m,\u001b[0m \u001b[0mdtype\u001b[0m\u001b[0;34m,\u001b[0m \u001b[0mcopy\u001b[0m\u001b[0;34m=\u001b[0m\u001b[0;32mFalse\u001b[0m\u001b[0;34m,\u001b[0m \u001b[0morder\u001b[0m\u001b[0;34m=\u001b[0m\u001b[0morder\u001b[0m\u001b[0;34m)\u001b[0m\u001b[0;34m\u001b[0m\u001b[0;34m\u001b[0m\u001b[0m\n\u001b[0m\u001b[1;32m     84\u001b[0m \u001b[0;34m\u001b[0m\u001b[0m\n\u001b[1;32m     85\u001b[0m \u001b[0;34m\u001b[0m\u001b[0m\n",
            "\u001b[0;32m/usr/local/lib/python3.7/dist-packages/pandas/core/series.py\u001b[0m in \u001b[0;36m__array__\u001b[0;34m(self, dtype)\u001b[0m\n\u001b[1;32m    795\u001b[0m               dtype='datetime64[ns]')\n\u001b[1;32m    796\u001b[0m         \"\"\"\n\u001b[0;32m--> 797\u001b[0;31m         \u001b[0;32mreturn\u001b[0m \u001b[0mnp\u001b[0m\u001b[0;34m.\u001b[0m\u001b[0masarray\u001b[0m\u001b[0;34m(\u001b[0m\u001b[0mself\u001b[0m\u001b[0;34m.\u001b[0m\u001b[0marray\u001b[0m\u001b[0;34m,\u001b[0m \u001b[0mdtype\u001b[0m\u001b[0;34m)\u001b[0m\u001b[0;34m\u001b[0m\u001b[0;34m\u001b[0m\u001b[0m\n\u001b[0m\u001b[1;32m    798\u001b[0m \u001b[0;34m\u001b[0m\u001b[0m\n\u001b[1;32m    799\u001b[0m     \u001b[0;31m# ----------------------------------------------------------------------\u001b[0m\u001b[0;34m\u001b[0m\u001b[0;34m\u001b[0m\u001b[0;34m\u001b[0m\u001b[0m\n",
            "\u001b[0;32m/usr/local/lib/python3.7/dist-packages/numpy/core/_asarray.py\u001b[0m in \u001b[0;36masarray\u001b[0;34m(a, dtype, order)\u001b[0m\n\u001b[1;32m     81\u001b[0m \u001b[0;34m\u001b[0m\u001b[0m\n\u001b[1;32m     82\u001b[0m     \"\"\"\n\u001b[0;32m---> 83\u001b[0;31m     \u001b[0;32mreturn\u001b[0m \u001b[0marray\u001b[0m\u001b[0;34m(\u001b[0m\u001b[0ma\u001b[0m\u001b[0;34m,\u001b[0m \u001b[0mdtype\u001b[0m\u001b[0;34m,\u001b[0m \u001b[0mcopy\u001b[0m\u001b[0;34m=\u001b[0m\u001b[0;32mFalse\u001b[0m\u001b[0;34m,\u001b[0m \u001b[0morder\u001b[0m\u001b[0;34m=\u001b[0m\u001b[0morder\u001b[0m\u001b[0;34m)\u001b[0m\u001b[0;34m\u001b[0m\u001b[0;34m\u001b[0m\u001b[0m\n\u001b[0m\u001b[1;32m     84\u001b[0m \u001b[0;34m\u001b[0m\u001b[0m\n\u001b[1;32m     85\u001b[0m \u001b[0;34m\u001b[0m\u001b[0m\n",
            "\u001b[0;32m/usr/local/lib/python3.7/dist-packages/pandas/core/arrays/numpy_.py\u001b[0m in \u001b[0;36m__array__\u001b[0;34m(self, dtype)\u001b[0m\n\u001b[1;32m    209\u001b[0m \u001b[0;34m\u001b[0m\u001b[0m\n\u001b[1;32m    210\u001b[0m     \u001b[0;32mdef\u001b[0m \u001b[0m__array__\u001b[0m\u001b[0;34m(\u001b[0m\u001b[0mself\u001b[0m\u001b[0;34m,\u001b[0m \u001b[0mdtype\u001b[0m\u001b[0;34m=\u001b[0m\u001b[0;32mNone\u001b[0m\u001b[0;34m)\u001b[0m \u001b[0;34m->\u001b[0m \u001b[0mnp\u001b[0m\u001b[0;34m.\u001b[0m\u001b[0mndarray\u001b[0m\u001b[0;34m:\u001b[0m\u001b[0;34m\u001b[0m\u001b[0;34m\u001b[0m\u001b[0m\n\u001b[0;32m--> 211\u001b[0;31m         \u001b[0;32mreturn\u001b[0m \u001b[0mnp\u001b[0m\u001b[0;34m.\u001b[0m\u001b[0masarray\u001b[0m\u001b[0;34m(\u001b[0m\u001b[0mself\u001b[0m\u001b[0;34m.\u001b[0m\u001b[0m_ndarray\u001b[0m\u001b[0;34m,\u001b[0m \u001b[0mdtype\u001b[0m\u001b[0;34m=\u001b[0m\u001b[0mdtype\u001b[0m\u001b[0;34m)\u001b[0m\u001b[0;34m\u001b[0m\u001b[0;34m\u001b[0m\u001b[0m\n\u001b[0m\u001b[1;32m    212\u001b[0m \u001b[0;34m\u001b[0m\u001b[0m\n\u001b[1;32m    213\u001b[0m     \u001b[0m_HANDLED_TYPES\u001b[0m \u001b[0;34m=\u001b[0m \u001b[0;34m(\u001b[0m\u001b[0mnp\u001b[0m\u001b[0;34m.\u001b[0m\u001b[0mndarray\u001b[0m\u001b[0;34m,\u001b[0m \u001b[0mnumbers\u001b[0m\u001b[0;34m.\u001b[0m\u001b[0mNumber\u001b[0m\u001b[0;34m)\u001b[0m\u001b[0;34m\u001b[0m\u001b[0;34m\u001b[0m\u001b[0m\n",
            "\u001b[0;32m/usr/local/lib/python3.7/dist-packages/numpy/core/_asarray.py\u001b[0m in \u001b[0;36masarray\u001b[0;34m(a, dtype, order)\u001b[0m\n\u001b[1;32m     81\u001b[0m \u001b[0;34m\u001b[0m\u001b[0m\n\u001b[1;32m     82\u001b[0m     \"\"\"\n\u001b[0;32m---> 83\u001b[0;31m     \u001b[0;32mreturn\u001b[0m \u001b[0marray\u001b[0m\u001b[0;34m(\u001b[0m\u001b[0ma\u001b[0m\u001b[0;34m,\u001b[0m \u001b[0mdtype\u001b[0m\u001b[0;34m,\u001b[0m \u001b[0mcopy\u001b[0m\u001b[0;34m=\u001b[0m\u001b[0;32mFalse\u001b[0m\u001b[0;34m,\u001b[0m \u001b[0morder\u001b[0m\u001b[0;34m=\u001b[0m\u001b[0morder\u001b[0m\u001b[0;34m)\u001b[0m\u001b[0;34m\u001b[0m\u001b[0;34m\u001b[0m\u001b[0m\n\u001b[0m\u001b[1;32m     84\u001b[0m \u001b[0;34m\u001b[0m\u001b[0m\n\u001b[1;32m     85\u001b[0m \u001b[0;34m\u001b[0m\u001b[0m\n",
            "\u001b[0;31mValueError\u001b[0m: could not convert string to float: 'Iris-virginica'"
          ]
        }
      ]
    },
    {
      "cell_type": "code",
      "metadata": {
        "id": "wB7J69gtdX1K"
      },
      "source": [
        "# 크로스 밸리데이션\n",
        "\n",
        "import pandas as pd\n",
        "from sklearn.model_selection import KFold\n",
        "from sklearn.model_selection import cross_val_score\n",
        "import warnings\n",
        "from sklearn.utils.testing import all_estimators\n",
        "\n",
        "# 붓꽃 데이터 불러오기 \n",
        "iris_data = pd.read_csv(\"iris.csv\")\n",
        "\n",
        "# 붓꽃 데이터를 레이블과 입력 데이터로 분리하기 \n",
        "y = iris_data.loc[:, \"Name\"]\n",
        "x = iris_data.loc[:, [\"SepalLength\", \"SepalWidth\", \"PetalLength\", \"PetalWidth\"]]\n",
        "\n",
        "# 학습 전용과 테스트 전용으로 분리하기 \n",
        "x_train, x_test, y_train, y_test = train_test_split(x, y, test_size = 0.2, \n",
        "                                                    train_size = 0.8, shuffle = True)\n",
        "# classifier 알고리즘 모두 추출하기 \n",
        "warnings.filterwarnings(\"ignore\")\n",
        "allAlgorithms = all_estimators(type_filter=\"classifier\")"
      ],
      "execution_count": null,
      "outputs": []
    },
    {
      "cell_type": "code",
      "metadata": {
        "colab": {
          "base_uri": "https://localhost:8080/",
          "height": 450
        },
        "id": "LYEk9vftgzKZ",
        "outputId": "084ecb9f-2209-453d-acb7-0b0cd23bdc8f"
      },
      "source": [
        "# K-분할 크로스 밸리데이션 전용 객체 \n",
        "kfold_cv = KFold(n_splits = 5, shuffle = True)\n",
        "\n",
        "for (name, algorithm) in allAlgorithms:\n",
        "  # 각 알고리즘 객체 생성하기 \n",
        "  clf = algorithm()\n",
        "\n",
        "  # score 메서드를 가진 클래스를 대상으로 하기 \n",
        "  if hasattr(clf, \"score\"):\n",
        "    # 크로스 밸리데이션 \n",
        "    scores = cross_val_score(clf, x, y, cv = kfold_cv)\n",
        "    print(name, \"의 정답률 = \")\n",
        "    print(scores)"
      ],
      "execution_count": null,
      "outputs": [
        {
          "output_type": "stream",
          "text": [
            "AdaBoostClassifier 의 정답률 = \n",
            "[1.         0.9        0.96666667 0.93333333 0.93333333]\n",
            "BaggingClassifier 의 정답률 = \n",
            "[0.93333333 0.9        0.96666667 1.         0.93333333]\n",
            "BernoulliNB 의 정답률 = \n",
            "[0.26666667 0.3        0.26666667 0.23333333 0.2       ]\n",
            "CalibratedClassifierCV 의 정답률 = \n",
            "[0.93333333 0.86666667 0.93333333 1.         0.83333333]\n",
            "CategoricalNB 의 정답률 = \n",
            "[0.96666667 0.86666667 0.93333333 0.93333333 0.93333333]\n",
            "CheckingClassifier 의 정답률 = \n",
            "[nan nan nan nan nan]\n"
          ],
          "name": "stdout"
        },
        {
          "output_type": "error",
          "ename": "TypeError",
          "evalue": "ignored",
          "traceback": [
            "\u001b[0;31m---------------------------------------------------------------------------\u001b[0m",
            "\u001b[0;31mTypeError\u001b[0m                                 Traceback (most recent call last)",
            "\u001b[0;32m<ipython-input-21-49e39545c8d3>\u001b[0m in \u001b[0;36m<module>\u001b[0;34m()\u001b[0m\n\u001b[1;32m      4\u001b[0m \u001b[0;32mfor\u001b[0m \u001b[0;34m(\u001b[0m\u001b[0mname\u001b[0m\u001b[0;34m,\u001b[0m \u001b[0malgorithm\u001b[0m\u001b[0;34m)\u001b[0m \u001b[0;32min\u001b[0m \u001b[0mallAlgorithms\u001b[0m\u001b[0;34m:\u001b[0m\u001b[0;34m\u001b[0m\u001b[0;34m\u001b[0m\u001b[0m\n\u001b[1;32m      5\u001b[0m   \u001b[0;31m# 각 알고리즘 객체 생성하기\u001b[0m\u001b[0;34m\u001b[0m\u001b[0;34m\u001b[0m\u001b[0;34m\u001b[0m\u001b[0m\n\u001b[0;32m----> 6\u001b[0;31m   \u001b[0mclf\u001b[0m \u001b[0;34m=\u001b[0m \u001b[0malgorithm\u001b[0m\u001b[0;34m(\u001b[0m\u001b[0;34m)\u001b[0m\u001b[0;34m\u001b[0m\u001b[0;34m\u001b[0m\u001b[0m\n\u001b[0m\u001b[1;32m      7\u001b[0m \u001b[0;34m\u001b[0m\u001b[0m\n\u001b[1;32m      8\u001b[0m   \u001b[0;31m# score 메서드를 가진 클래스를 대상으로 하기\u001b[0m\u001b[0;34m\u001b[0m\u001b[0;34m\u001b[0m\u001b[0;34m\u001b[0m\u001b[0m\n",
            "\u001b[0;31mTypeError\u001b[0m: __init__() missing 1 required positional argument: 'base_estimator'"
          ]
        }
      ]
    },
    {
      "cell_type": "code",
      "metadata": {
        "id": "D4NT9I4hhbb2"
      },
      "source": [
        "# 최적의 매개변수 찾기 - 그리드 서치 \n",
        "\n",
        "import pandas as pd\n",
        "from sklearn.model_selection import train_test_split\n",
        "from sklearn.svm import SVC # 알고리즘 객체 \n",
        "from sklearn.metrics import accuracy_score\n",
        "from sklearn.model_selection import KFold\n",
        "from sklearn.model_selection import GridSearchCV \n",
        "\n",
        "# 붓꽃 데이터 불러오기 \n",
        "iris_data = pd.read_csv(\"iris.csv\")\n",
        "\n",
        "# 붓꽃 데이터를 레이블과 입력 데이터로 분리하기 \n",
        "y = iris_data.loc[:, \"Name\"]\n",
        "x = iris_data.loc[:, [\"SepalLength\", \"SepalWidth\", \"PetalLength\", \"PetalWidth\"]]\n",
        "\n",
        "# 학습 전용과 테스트 전용으로 분리하기 \n",
        "x_train, x_test, y_train, y_test = train_test_split(x, y, test_size = 0.2, \n",
        "                                                    train_size = 0.8, shuffle = True)"
      ],
      "execution_count": null,
      "outputs": []
    },
    {
      "cell_type": "code",
      "metadata": {
        "id": "8Hoa601sn2sE"
      },
      "source": [
        "# 그리디 서치(탐욕 검색: 하나하나 모두 뒤진다.)\n",
        "parameters = [ # 매개변수 리스트 \n",
        "              {\"C\":[1,10,100,1000], \"kernel\":[\"linear\"]},\n",
        "              {\"C\":[1,10,100,1000], \"kernel\":[\"rbf\"], \"gamma\":[0.001, 0.0001]},\n",
        "              {\"C\":[1,10,100,1000], \"kernel\":[\"sigmoid\"], \"gamma\":[0.001, 0.0001]}             \n",
        "]\n"
      ],
      "execution_count": null,
      "outputs": []
    },
    {
      "cell_type": "code",
      "metadata": {
        "colab": {
          "base_uri": "https://localhost:8080/"
        },
        "id": "TyCmEoNooXKu",
        "outputId": "c4129ba5-eed7-439f-d922-7f9a38cd16c0"
      },
      "source": [
        "# 그리드 서치 \n",
        "kfold_cv = KFold(n_splits=5, shuffle=True)\n",
        "clf = GridSearchCV(SVC(), parameters, cv=kfold_cv) # cv는 크로스 밸리데이션 전용 객체 \n",
        "\n",
        "clf.fit(x_train, y_train)\n",
        "print(\"최적의 매개 변수 =\", clf.best_estimator_)"
      ],
      "execution_count": null,
      "outputs": [
        {
          "output_type": "stream",
          "text": [
            "최적의 매개 변수 = SVC(C=1, break_ties=False, cache_size=200, class_weight=None, coef0=0.0,\n",
            "    decision_function_shape='ovr', degree=3, gamma='scale', kernel='linear',\n",
            "    max_iter=-1, probability=False, random_state=None, shrinking=True,\n",
            "    tol=0.001, verbose=False)\n"
          ],
          "name": "stdout"
        }
      ]
    },
    {
      "cell_type": "code",
      "metadata": {
        "colab": {
          "base_uri": "https://localhost:8080/"
        },
        "id": "UEhMmwLnov1b",
        "outputId": "76b7db1a-afc8-4cb1-9de6-28e95aa6eb06"
      },
      "source": [
        "# 최적의 매개 변수로 평가하기 \n",
        "y_pred = clf.predict(x_test)\n",
        "print(\"최종정답률 = \", accuracy_score(y_test, y_pred))"
      ],
      "execution_count": null,
      "outputs": [
        {
          "output_type": "stream",
          "text": [
            "최종정답률 =  1.0\n"
          ],
          "name": "stdout"
        }
      ]
    },
    {
      "cell_type": "code",
      "metadata": {
        "colab": {
          "base_uri": "https://localhost:8080/"
        },
        "id": "N1kMI-hlpKya",
        "outputId": "82478aea-b86d-4e80-b816-08ec9261dee9"
      },
      "source": [
        "## NumPy 사용법 간단 정리 \n",
        "\n",
        "import numpy as np \n",
        "\n",
        "# 행렬 계산 \n",
        "a = np.array([1,2,3,4,5])\n",
        "print(a)\n",
        "print(type(a))"
      ],
      "execution_count": null,
      "outputs": [
        {
          "output_type": "stream",
          "text": [
            "[1 2 3 4 5]\n",
            "<class 'numpy.ndarray'>\n"
          ],
          "name": "stdout"
        }
      ]
    },
    {
      "cell_type": "code",
      "metadata": {
        "colab": {
          "base_uri": "https://localhost:8080/"
        },
        "id": "jYcgGnxorJgP",
        "outputId": "aa01cc57-333b-4454-a311-2daaf5da9f42"
      },
      "source": [
        "# 2차원 행렬 \n",
        "b = np.array([[1,2,3], [4,5,6]])\n",
        "print(b)\n",
        "print(type(b))"
      ],
      "execution_count": null,
      "outputs": [
        {
          "output_type": "stream",
          "text": [
            "[[1 2 3]\n",
            " [4 5 6]]\n",
            "<class 'numpy.ndarray'>\n"
          ],
          "name": "stdout"
        }
      ]
    },
    {
      "cell_type": "code",
      "metadata": {
        "colab": {
          "base_uri": "https://localhost:8080/"
        },
        "id": "SPjmSAxIrdIw",
        "outputId": "13c97fae-976f-47c6-f4e0-3c2623d2ef34"
      },
      "source": [
        "# 한 번에 배열을 0으로 초기화해서 생성하는 방법 (np.zeros() 사용)\n",
        "print(np.zeros(10))"
      ],
      "execution_count": null,
      "outputs": [
        {
          "output_type": "stream",
          "text": [
            "[0. 0. 0. 0. 0. 0. 0. 0. 0. 0.]\n"
          ],
          "name": "stdout"
        }
      ]
    },
    {
      "cell_type": "code",
      "metadata": {
        "colab": {
          "base_uri": "https://localhost:8080/"
        },
        "id": "0nzgr-bWruoQ",
        "outputId": "fcbe60c8-6468-405f-bfdc-123535434280"
      },
      "source": [
        "print(np.zeros((3,2))) # 괄호 개수 주의.. "
      ],
      "execution_count": null,
      "outputs": [
        {
          "output_type": "stream",
          "text": [
            "[[0. 0.]\n",
            " [0. 0.]\n",
            " [0. 0.]]\n"
          ],
          "name": "stdout"
        }
      ]
    },
    {
      "cell_type": "code",
      "metadata": {
        "colab": {
          "base_uri": "https://localhost:8080/"
        },
        "id": "_u-v08OWryZu",
        "outputId": "7d8dac7e-9846-4dbd-90c6-b75110461e30"
      },
      "source": [
        "print(np.ones(10))"
      ],
      "execution_count": null,
      "outputs": [
        {
          "output_type": "stream",
          "text": [
            "[1. 1. 1. 1. 1. 1. 1. 1. 1. 1.]\n"
          ],
          "name": "stdout"
        }
      ]
    },
    {
      "cell_type": "code",
      "metadata": {
        "colab": {
          "base_uri": "https://localhost:8080/"
        },
        "id": "XnvdhhxKsIXy",
        "outputId": "39ee21fe-be3d-4d79-c109-1fa1a24a5a83"
      },
      "source": [
        "# 범위를 기반으로 배열 생성 (np.arange() 사용)\n",
        "print(np.arange(5))"
      ],
      "execution_count": null,
      "outputs": [
        {
          "output_type": "stream",
          "text": [
            "[0 1 2 3 4]\n"
          ],
          "name": "stdout"
        }
      ]
    },
    {
      "cell_type": "code",
      "metadata": {
        "colab": {
          "base_uri": "https://localhost:8080/"
        },
        "id": "7YZFnRtXsSSZ",
        "outputId": "678f524b-a178-41cb-a718-254a457cc625"
      },
      "source": [
        "print(np.arange(2,9))"
      ],
      "execution_count": null,
      "outputs": [
        {
          "output_type": "stream",
          "text": [
            "[2 3 4 5 6 7 8]\n"
          ],
          "name": "stdout"
        }
      ]
    },
    {
      "cell_type": "code",
      "metadata": {
        "colab": {
          "base_uri": "https://localhost:8080/"
        },
        "id": "s3DF0fbRsUdO",
        "outputId": "6012bfbd-6300-4048-9d32-5d62a5251316"
      },
      "source": [
        "print(np.arange(5,8,0.5)) # start, stop, step"
      ],
      "execution_count": null,
      "outputs": [
        {
          "output_type": "stream",
          "text": [
            "[5.  5.5 6.  6.5 7.  7.5]\n"
          ],
          "name": "stdout"
        }
      ]
    },
    {
      "cell_type": "code",
      "metadata": {
        "colab": {
          "base_uri": "https://localhost:8080/"
        },
        "id": "vje7MJoYsXY9",
        "outputId": "9eb629cd-a3ce-4869-b7cb-53c41c7ce2d5"
      },
      "source": [
        "# 행렬 계산 \n",
        "a = np.array([1,2,3,4,5]) # 초기화\n",
        "b = a * 2 # 계산 \n",
        "print(b)"
      ],
      "execution_count": null,
      "outputs": [
        {
          "output_type": "stream",
          "text": [
            "[ 2  4  6  8 10]\n"
          ],
          "name": "stdout"
        }
      ]
    },
    {
      "cell_type": "code",
      "metadata": {
        "colab": {
          "base_uri": "https://localhost:8080/"
        },
        "id": "tmZiaPjmsxBW",
        "outputId": "85c84f16-daef-4ff9-a386-280a4cf31461"
      },
      "source": [
        "x = np.arange(10)\n",
        "y = 3 * x + 5\n",
        "print(y)"
      ],
      "execution_count": null,
      "outputs": [
        {
          "output_type": "stream",
          "text": [
            "[ 5  8 11 14 17 20 23 26 29 32]\n"
          ],
          "name": "stdout"
        }
      ]
    },
    {
      "cell_type": "code",
      "metadata": {
        "colab": {
          "base_uri": "https://localhost:8080/"
        },
        "id": "DXQnmcyvs4GL",
        "outputId": "34df3f07-eecb-4616-c05e-4d414f938536"
      },
      "source": [
        "# NumPy 배열의 차원 확인하기 (shape 속성 사용)\n",
        "\n",
        "a = np.array([[1,2,3],[4,5,6]])\n",
        "print(a.shape)"
      ],
      "execution_count": null,
      "outputs": [
        {
          "output_type": "stream",
          "text": [
            "(2, 3)\n"
          ],
          "name": "stdout"
        }
      ]
    },
    {
      "cell_type": "code",
      "metadata": {
        "colab": {
          "base_uri": "https://localhost:8080/"
        },
        "id": "ECwb5ez3tKfd",
        "outputId": "3c973d37-6050-4f02-da30-ec66607ecdd7"
      },
      "source": [
        "b = np.array([[1,2,3],[4,5,6],[7,8,9]])\n",
        "print(b.shape)"
      ],
      "execution_count": null,
      "outputs": [
        {
          "output_type": "stream",
          "text": [
            "(3, 3)\n"
          ],
          "name": "stdout"
        }
      ]
    },
    {
      "cell_type": "code",
      "metadata": {
        "colab": {
          "base_uri": "https://localhost:8080/"
        },
        "id": "krVVbd0etRvo",
        "outputId": "06450d3d-db94-4130-d82e-d04a62cef600"
      },
      "source": [
        "# NumPy 배열의 차원 수 1차원 배열로 변환하기 (flatten() 사용)\n",
        "\n",
        "a = np.array([[1,2,3],[4,5,6]])\n",
        "print(\"a =\", a)\n",
        "b = a.flatten()\n",
        "print(\"b =\", b)"
      ],
      "execution_count": null,
      "outputs": [
        {
          "output_type": "stream",
          "text": [
            "a = [[1 2 3]\n",
            " [4 5 6]]\n",
            "b = [1 2 3 4 5 6]\n"
          ],
          "name": "stdout"
        }
      ]
    },
    {
      "cell_type": "code",
      "metadata": {
        "colab": {
          "base_uri": "https://localhost:8080/"
        },
        "id": "XI_cxV17twO6",
        "outputId": "1973bc5f-7d47-407a-8bbe-6bce7aef8809"
      },
      "source": [
        "# 원하는 차원 수로 변환하기 (reshape() 사용)\n",
        "\n",
        "a = np.array([[1,2,3],[4,5,6]])\n",
        "print(a)\n",
        "print(\"---\")\n",
        "print(a.reshape(3,2))"
      ],
      "execution_count": null,
      "outputs": [
        {
          "output_type": "stream",
          "text": [
            "[[1 2 3]\n",
            " [4 5 6]]\n",
            "---\n",
            "[[1 2]\n",
            " [3 4]\n",
            " [5 6]]\n"
          ],
          "name": "stdout"
        }
      ]
    },
    {
      "cell_type": "code",
      "metadata": {
        "colab": {
          "base_uri": "https://localhost:8080/"
        },
        "id": "YiyjcajguBr3",
        "outputId": "9ed3c368-b60d-48ea-9bd1-79f47b6ccab7"
      },
      "source": [
        "# 배열 요소에 접근하는 방법(인덱싱, 슬라이싱)\n",
        "\n",
        "v = np.array([[1,2,3],[4,5,6],[7,8,9]])\n",
        "a = v[0]\n",
        "b = v[1:]\n",
        "c = v[:, 0] # 2차원 배열 내부에 있는 1차원 배열의 0번째 요소 추출 \n",
        "print(\"a =\", a)\n",
        "print(\"b =\", b)\n",
        "print(\"c =\", c)"
      ],
      "execution_count": null,
      "outputs": [
        {
          "output_type": "stream",
          "text": [
            "a = [1 2 3]\n",
            "b = [[4 5 6]\n",
            " [7 8 9]]\n",
            "c = [1 4 7]\n"
          ],
          "name": "stdout"
        }
      ]
    },
    {
      "cell_type": "code",
      "metadata": {
        "colab": {
          "base_uri": "https://localhost:8080/"
        },
        "id": "vwX1jjSQujId",
        "outputId": "6beec742-70be-4aa1-a2f3-3050213584a4"
      },
      "source": [
        "# OpenCV 설치하기 \n",
        "!pip install opencv-python"
      ],
      "execution_count": null,
      "outputs": [
        {
          "output_type": "stream",
          "text": [
            "Requirement already satisfied: opencv-python in /usr/local/lib/python3.7/dist-packages (4.1.2.30)\n",
            "Requirement already satisfied: numpy>=1.14.5 in /usr/local/lib/python3.7/dist-packages (from opencv-python) (1.19.5)\n"
          ],
          "name": "stdout"
        }
      ]
    },
    {
      "cell_type": "code",
      "metadata": {
        "colab": {
          "base_uri": "https://localhost:8080/"
        },
        "id": "jhbwDqUgwE70",
        "outputId": "6cf98180-11cb-4c0d-9eff-3d949f431252"
      },
      "source": [
        "# TensorFlow와 Keras 설치하기 \n",
        "!pip install --upgrade tensorflow==2.5.0\n",
        "!pip install --upgrade keras==2.1.4"
      ],
      "execution_count": null,
      "outputs": [
        {
          "output_type": "stream",
          "text": [
            "Requirement already up-to-date: tensorflow==2.5.0 in /usr/local/lib/python3.7/dist-packages (2.5.0)\n",
            "Requirement already satisfied, skipping upgrade: numpy~=1.19.2 in /usr/local/lib/python3.7/dist-packages (from tensorflow==2.5.0) (1.19.5)\n",
            "Requirement already satisfied, skipping upgrade: opt-einsum~=3.3.0 in /usr/local/lib/python3.7/dist-packages (from tensorflow==2.5.0) (3.3.0)\n",
            "Requirement already satisfied, skipping upgrade: grpcio~=1.34.0 in /usr/local/lib/python3.7/dist-packages (from tensorflow==2.5.0) (1.34.1)\n",
            "Requirement already satisfied, skipping upgrade: keras-preprocessing~=1.1.2 in /usr/local/lib/python3.7/dist-packages (from tensorflow==2.5.0) (1.1.2)\n",
            "Requirement already satisfied, skipping upgrade: termcolor~=1.1.0 in /usr/local/lib/python3.7/dist-packages (from tensorflow==2.5.0) (1.1.0)\n",
            "Requirement already satisfied, skipping upgrade: tensorflow-estimator<2.6.0,>=2.5.0rc0 in /usr/local/lib/python3.7/dist-packages (from tensorflow==2.5.0) (2.5.0)\n",
            "Requirement already satisfied, skipping upgrade: google-pasta~=0.2 in /usr/local/lib/python3.7/dist-packages (from tensorflow==2.5.0) (0.2.0)\n",
            "Requirement already satisfied, skipping upgrade: typing-extensions~=3.7.4 in /usr/local/lib/python3.7/dist-packages (from tensorflow==2.5.0) (3.7.4.3)\n",
            "Requirement already satisfied, skipping upgrade: wheel~=0.35 in /usr/local/lib/python3.7/dist-packages (from tensorflow==2.5.0) (0.36.2)\n",
            "Requirement already satisfied, skipping upgrade: protobuf>=3.9.2 in /usr/local/lib/python3.7/dist-packages (from tensorflow==2.5.0) (3.12.4)\n",
            "Requirement already satisfied, skipping upgrade: wrapt~=1.12.1 in /usr/local/lib/python3.7/dist-packages (from tensorflow==2.5.0) (1.12.1)\n",
            "Requirement already satisfied, skipping upgrade: absl-py~=0.10 in /usr/local/lib/python3.7/dist-packages (from tensorflow==2.5.0) (0.12.0)\n",
            "Requirement already satisfied, skipping upgrade: six~=1.15.0 in /usr/local/lib/python3.7/dist-packages (from tensorflow==2.5.0) (1.15.0)\n",
            "Requirement already satisfied, skipping upgrade: gast==0.4.0 in /usr/local/lib/python3.7/dist-packages (from tensorflow==2.5.0) (0.4.0)\n",
            "Requirement already satisfied, skipping upgrade: keras-nightly~=2.5.0.dev in /usr/local/lib/python3.7/dist-packages (from tensorflow==2.5.0) (2.5.0.dev2021032900)\n",
            "Requirement already satisfied, skipping upgrade: h5py~=3.1.0 in /usr/local/lib/python3.7/dist-packages (from tensorflow==2.5.0) (3.1.0)\n",
            "Requirement already satisfied, skipping upgrade: flatbuffers~=1.12.0 in /usr/local/lib/python3.7/dist-packages (from tensorflow==2.5.0) (1.12)\n",
            "Requirement already satisfied, skipping upgrade: tensorboard~=2.5 in /usr/local/lib/python3.7/dist-packages (from tensorflow==2.5.0) (2.5.0)\n",
            "Requirement already satisfied, skipping upgrade: astunparse~=1.6.3 in /usr/local/lib/python3.7/dist-packages (from tensorflow==2.5.0) (1.6.3)\n",
            "Requirement already satisfied, skipping upgrade: setuptools in /usr/local/lib/python3.7/dist-packages (from protobuf>=3.9.2->tensorflow==2.5.0) (57.0.0)\n",
            "Requirement already satisfied, skipping upgrade: cached-property; python_version < \"3.8\" in /usr/local/lib/python3.7/dist-packages (from h5py~=3.1.0->tensorflow==2.5.0) (1.5.2)\n",
            "Requirement already satisfied, skipping upgrade: google-auth<2,>=1.6.3 in /usr/local/lib/python3.7/dist-packages (from tensorboard~=2.5->tensorflow==2.5.0) (1.30.0)\n",
            "Requirement already satisfied, skipping upgrade: tensorboard-data-server<0.7.0,>=0.6.0 in /usr/local/lib/python3.7/dist-packages (from tensorboard~=2.5->tensorflow==2.5.0) (0.6.1)\n",
            "Requirement already satisfied, skipping upgrade: werkzeug>=0.11.15 in /usr/local/lib/python3.7/dist-packages (from tensorboard~=2.5->tensorflow==2.5.0) (1.0.1)\n",
            "Requirement already satisfied, skipping upgrade: google-auth-oauthlib<0.5,>=0.4.1 in /usr/local/lib/python3.7/dist-packages (from tensorboard~=2.5->tensorflow==2.5.0) (0.4.4)\n",
            "Requirement already satisfied, skipping upgrade: tensorboard-plugin-wit>=1.6.0 in /usr/local/lib/python3.7/dist-packages (from tensorboard~=2.5->tensorflow==2.5.0) (1.8.0)\n",
            "Requirement already satisfied, skipping upgrade: requests<3,>=2.21.0 in /usr/local/lib/python3.7/dist-packages (from tensorboard~=2.5->tensorflow==2.5.0) (2.23.0)\n",
            "Requirement already satisfied, skipping upgrade: markdown>=2.6.8 in /usr/local/lib/python3.7/dist-packages (from tensorboard~=2.5->tensorflow==2.5.0) (3.3.4)\n",
            "Requirement already satisfied, skipping upgrade: cachetools<5.0,>=2.0.0 in /usr/local/lib/python3.7/dist-packages (from google-auth<2,>=1.6.3->tensorboard~=2.5->tensorflow==2.5.0) (4.2.2)\n",
            "Requirement already satisfied, skipping upgrade: pyasn1-modules>=0.2.1 in /usr/local/lib/python3.7/dist-packages (from google-auth<2,>=1.6.3->tensorboard~=2.5->tensorflow==2.5.0) (0.2.8)\n",
            "Requirement already satisfied, skipping upgrade: rsa<5,>=3.1.4; python_version >= \"3.6\" in /usr/local/lib/python3.7/dist-packages (from google-auth<2,>=1.6.3->tensorboard~=2.5->tensorflow==2.5.0) (4.7.2)\n",
            "Requirement already satisfied, skipping upgrade: requests-oauthlib>=0.7.0 in /usr/local/lib/python3.7/dist-packages (from google-auth-oauthlib<0.5,>=0.4.1->tensorboard~=2.5->tensorflow==2.5.0) (1.3.0)\n",
            "Requirement already satisfied, skipping upgrade: idna<3,>=2.5 in /usr/local/lib/python3.7/dist-packages (from requests<3,>=2.21.0->tensorboard~=2.5->tensorflow==2.5.0) (2.10)\n",
            "Requirement already satisfied, skipping upgrade: certifi>=2017.4.17 in /usr/local/lib/python3.7/dist-packages (from requests<3,>=2.21.0->tensorboard~=2.5->tensorflow==2.5.0) (2020.12.5)\n",
            "Requirement already satisfied, skipping upgrade: chardet<4,>=3.0.2 in /usr/local/lib/python3.7/dist-packages (from requests<3,>=2.21.0->tensorboard~=2.5->tensorflow==2.5.0) (3.0.4)\n",
            "Requirement already satisfied, skipping upgrade: urllib3!=1.25.0,!=1.25.1,<1.26,>=1.21.1 in /usr/local/lib/python3.7/dist-packages (from requests<3,>=2.21.0->tensorboard~=2.5->tensorflow==2.5.0) (1.24.3)\n",
            "Requirement already satisfied, skipping upgrade: importlib-metadata; python_version < \"3.8\" in /usr/local/lib/python3.7/dist-packages (from markdown>=2.6.8->tensorboard~=2.5->tensorflow==2.5.0) (4.0.1)\n",
            "Requirement already satisfied, skipping upgrade: pyasn1<0.5.0,>=0.4.6 in /usr/local/lib/python3.7/dist-packages (from pyasn1-modules>=0.2.1->google-auth<2,>=1.6.3->tensorboard~=2.5->tensorflow==2.5.0) (0.4.8)\n",
            "Requirement already satisfied, skipping upgrade: oauthlib>=3.0.0 in /usr/local/lib/python3.7/dist-packages (from requests-oauthlib>=0.7.0->google-auth-oauthlib<0.5,>=0.4.1->tensorboard~=2.5->tensorflow==2.5.0) (3.1.0)\n",
            "Requirement already satisfied, skipping upgrade: zipp>=0.5 in /usr/local/lib/python3.7/dist-packages (from importlib-metadata; python_version < \"3.8\"->markdown>=2.6.8->tensorboard~=2.5->tensorflow==2.5.0) (3.4.1)\n",
            "Collecting keras==2.1.4\n",
            "\u001b[?25l  Downloading https://files.pythonhosted.org/packages/86/45/a273fe3f8fe931a11da34fba1cb74013cfc70dcf93e5d8d329c951dc44c5/Keras-2.1.4-py2.py3-none-any.whl (322kB)\n",
            "\u001b[K     |████████████████████████████████| 327kB 30.3MB/s \n",
            "\u001b[?25hRequirement already satisfied, skipping upgrade: pyyaml in /usr/local/lib/python3.7/dist-packages (from keras==2.1.4) (3.13)\n",
            "Requirement already satisfied, skipping upgrade: numpy>=1.9.1 in /usr/local/lib/python3.7/dist-packages (from keras==2.1.4) (1.19.5)\n",
            "Requirement already satisfied, skipping upgrade: scipy>=0.14 in /usr/local/lib/python3.7/dist-packages (from keras==2.1.4) (1.4.1)\n",
            "Requirement already satisfied, skipping upgrade: six>=1.9.0 in /usr/local/lib/python3.7/dist-packages (from keras==2.1.4) (1.15.0)\n",
            "Installing collected packages: keras\n",
            "  Found existing installation: Keras 2.4.3\n",
            "    Uninstalling Keras-2.4.3:\n",
            "      Successfully uninstalled Keras-2.4.3\n",
            "Successfully installed keras-2.1.4\n"
          ],
          "name": "stdout"
        }
      ]
    },
    {
      "cell_type": "code",
      "metadata": {
        "colab": {
          "base_uri": "https://localhost:8080/"
        },
        "id": "SxZRl3izwYuQ",
        "outputId": "81207116-be76-4f23-b1e0-3bd376332177"
      },
      "source": [
        "# 이미지 읽어들이기 \n",
        "\n",
        "# 이미지 다운로드 \n",
        "import urllib.request as req\n",
        "url = \"http://uta.pw/shodou/img/28/214.png\"\n",
        "req.urlretrieve(url, \"test.png\") # urlretrieve(): 웹에 있는 이미지 다운로드할 때 사용 "
      ],
      "execution_count": null,
      "outputs": [
        {
          "output_type": "execute_result",
          "data": {
            "text/plain": [
              "('test.png', <http.client.HTTPMessage at 0x7f99e49c7f50>)"
            ]
          },
          "metadata": {
            "tags": []
          },
          "execution_count": 54
        }
      ]
    },
    {
      "cell_type": "code",
      "metadata": {
        "colab": {
          "base_uri": "https://localhost:8080/"
        },
        "id": "d10A1E31w_cN",
        "outputId": "4dda1e39-a5af-4518-9d87-b1f230f075c8"
      },
      "source": [
        "# OpenCV로 읽어오기 \n",
        "import cv2 \n",
        "img = cv2.imread(\"test.png\") # imread()로 존재하지 않는 파일을 호출하면 None을 반환한다.\n",
        "print(img)"
      ],
      "execution_count": null,
      "outputs": [
        {
          "output_type": "stream",
          "text": [
            "[[[255 255 255]\n",
            "  [255 255 255]\n",
            "  [255 255 255]\n",
            "  ...\n",
            "  [255 255 255]\n",
            "  [255 255 255]\n",
            "  [255 255 255]]\n",
            "\n",
            " [[255 255 255]\n",
            "  [255 255 255]\n",
            "  [255 255 255]\n",
            "  ...\n",
            "  [255 255 255]\n",
            "  [255 255 255]\n",
            "  [255 255 255]]\n",
            "\n",
            " [[255 255 255]\n",
            "  [255 255 255]\n",
            "  [255 255 255]\n",
            "  ...\n",
            "  [255 255 255]\n",
            "  [255 255 255]\n",
            "  [255 255 255]]\n",
            "\n",
            " ...\n",
            "\n",
            " [[255 255 255]\n",
            "  [255 255 255]\n",
            "  [255 255 255]\n",
            "  ...\n",
            "  [255 255 255]\n",
            "  [255 255 255]\n",
            "  [255 255 255]]\n",
            "\n",
            " [[255 255 255]\n",
            "  [255 255 255]\n",
            "  [255 255 255]\n",
            "  ...\n",
            "  [255 255 255]\n",
            "  [255 255 255]\n",
            "  [255 255 255]]\n",
            "\n",
            " [[255 255 255]\n",
            "  [255 255 255]\n",
            "  [255 255 255]\n",
            "  ...\n",
            "  [255 255 255]\n",
            "  [255 255 255]\n",
            "  [255 255 255]]]\n"
          ],
          "name": "stdout"
        }
      ]
    },
    {
      "cell_type": "code",
      "metadata": {
        "id": "BlX1l_bwxK3J"
      },
      "source": [
        "# 이미지를 인라인 출력하기 \n",
        "\n",
        "%matplotlib inline"
      ],
      "execution_count": null,
      "outputs": []
    },
    {
      "cell_type": "code",
      "metadata": {
        "colab": {
          "base_uri": "https://localhost:8080/",
          "height": 269
        },
        "id": "eeP1w0aXx9GQ",
        "outputId": "b936f883-21d3-4a73-eca9-cbd93f45e50f"
      },
      "source": [
        "# 다운로드한 이미지 출력하기 \n",
        "import matplotlib.pyplot as plt\n",
        "import cv2\n",
        "img = cv2.imread(\"test.png\")\n",
        "plt.imshow(cv2.cvtColor(img, cv2.COLOR_BGR2RGB)) \n",
        "# imshow(): 이미지 출력 \n",
        "# cvtColor(): BGR(openCV 기본)에서 RGB(matplotlib 기본)로 변환 \n",
        "## 변환 하지 않고 그냥 출력하면 빨강이 파랑으로, 파랑이 빨강으로 출력된다. \n",
        "plt.show()"
      ],
      "execution_count": null,
      "outputs": [
        {
          "output_type": "display_data",
          "data": {
            "image/png": "[encoded data removed]",
            "text/plain": [
              "<Figure size 432x288 with 1 Axes>"
            ]
          },
          "metadata": {
            "tags": [],
            "needs_background": "light"
          }
        }
      ]
    },
    {
      "cell_type": "code",
      "metadata": {
        "colab": {
          "base_uri": "https://localhost:8080/",
          "height": 470
        },
        "id": "h4EPNEDVyQcD",
        "outputId": "0b24defb-8955-44f3-88c4-fec438a93774"
      },
      "source": [
        "img = cv2. imread(\"test.jpg\")\n",
        "plt.axis(\"off\") # axis 출력 끄기 \n",
        "plt.imshow(cv2.cvtColor(img, cv2.COLOR_BGR2RGB))\n",
        "plt.show()"
      ],
      "execution_count": null,
      "outputs": [
        {
          "output_type": "error",
          "ename": "error",
          "evalue": "ignored",
          "traceback": [
            "\u001b[0;31m---------------------------------------------------------------------------\u001b[0m",
            "\u001b[0;31merror\u001b[0m                                     Traceback (most recent call last)",
            "\u001b[0;32m<ipython-input-63-67952bce3efe>\u001b[0m in \u001b[0;36m<module>\u001b[0;34m()\u001b[0m\n\u001b[1;32m      1\u001b[0m \u001b[0mimg\u001b[0m \u001b[0;34m=\u001b[0m \u001b[0mcv2\u001b[0m\u001b[0;34m.\u001b[0m \u001b[0mimread\u001b[0m\u001b[0;34m(\u001b[0m\u001b[0;34m\"test.jpg\"\u001b[0m\u001b[0;34m)\u001b[0m\u001b[0;34m\u001b[0m\u001b[0;34m\u001b[0m\u001b[0m\n\u001b[1;32m      2\u001b[0m \u001b[0mplt\u001b[0m\u001b[0;34m.\u001b[0m\u001b[0maxis\u001b[0m\u001b[0;34m(\u001b[0m\u001b[0;34m\"off\"\u001b[0m\u001b[0;34m)\u001b[0m \u001b[0;31m# axis 출력 끄기\u001b[0m\u001b[0;34m\u001b[0m\u001b[0;34m\u001b[0m\u001b[0m\n\u001b[0;32m----> 3\u001b[0;31m \u001b[0mplt\u001b[0m\u001b[0;34m.\u001b[0m\u001b[0mimshow\u001b[0m\u001b[0;34m(\u001b[0m\u001b[0mcv2\u001b[0m\u001b[0;34m.\u001b[0m\u001b[0mcvtColor\u001b[0m\u001b[0;34m(\u001b[0m\u001b[0mimg\u001b[0m\u001b[0;34m,\u001b[0m \u001b[0mcv2\u001b[0m\u001b[0;34m.\u001b[0m\u001b[0mCOLOR_BGR2RGB\u001b[0m\u001b[0;34m)\u001b[0m\u001b[0;34m)\u001b[0m\u001b[0;34m\u001b[0m\u001b[0;34m\u001b[0m\u001b[0m\n\u001b[0m\u001b[1;32m      4\u001b[0m \u001b[0mplt\u001b[0m\u001b[0;34m.\u001b[0m\u001b[0mshow\u001b[0m\u001b[0;34m(\u001b[0m\u001b[0;34m)\u001b[0m\u001b[0;34m\u001b[0m\u001b[0;34m\u001b[0m\u001b[0m\n",
            "\u001b[0;31merror\u001b[0m: OpenCV(4.1.2) /io/opencv/modules/imgproc/src/color.cpp:182: error: (-215:Assertion failed) !_src.empty() in function 'cvtColor'\n"
          ]
        },
        {
          "output_type": "display_data",
          "data": {
            "image/png": "[encoded data removed]",
            "text/plain": [
              "<Figure size 432x288 with 1 Axes>"
            ]
          },
          "metadata": {
            "tags": [],
            "needs_background": "light"
          }
        }
      ]
    },
    {
      "cell_type": "code",
      "metadata": {
        "colab": {
          "base_uri": "https://localhost:8080/",
          "height": 257
        },
        "id": "GXJYoUTb1-HX",
        "outputId": "3fb7321e-242c-47a2-b1f0-030c5ad22eea"
      },
      "source": [
        "# 이미지 크기 변경하기 \n",
        "import matplotlib.pyplot as plt\n",
        "import cv2\n",
        "\n",
        "# 이미지 불러오기 \n",
        "img = cv2. imread(\"test.jpg\")\n",
        "# 이미지 크기 변경 \n",
        "im2 = cv2.resize(img, (600, 300))\n",
        "# 크기 변경한 이미지 저장하기 \n",
        "plt.imshow(cv2.cvtColor(im2, cv2.COLOR_BGR2RGB))\n",
        "plt.show()"
      ],
      "execution_count": null,
      "outputs": [
        {
          "output_type": "error",
          "ename": "error",
          "evalue": "ignored",
          "traceback": [
            "\u001b[0;31m---------------------------------------------------------------------------\u001b[0m",
            "\u001b[0;31merror\u001b[0m                                     Traceback (most recent call last)",
            "\u001b[0;32m<ipython-input-65-060f94dd3a17>\u001b[0m in \u001b[0;36m<module>\u001b[0;34m()\u001b[0m\n\u001b[1;32m      6\u001b[0m \u001b[0mimg\u001b[0m \u001b[0;34m=\u001b[0m \u001b[0mcv2\u001b[0m\u001b[0;34m.\u001b[0m \u001b[0mimread\u001b[0m\u001b[0;34m(\u001b[0m\u001b[0;34m\"test.jpg\"\u001b[0m\u001b[0;34m)\u001b[0m\u001b[0;34m\u001b[0m\u001b[0;34m\u001b[0m\u001b[0m\n\u001b[1;32m      7\u001b[0m \u001b[0;31m# 이미지 크기 변경\u001b[0m\u001b[0;34m\u001b[0m\u001b[0;34m\u001b[0m\u001b[0;34m\u001b[0m\u001b[0m\n\u001b[0;32m----> 8\u001b[0;31m \u001b[0mim2\u001b[0m \u001b[0;34m=\u001b[0m \u001b[0mcv2\u001b[0m\u001b[0;34m.\u001b[0m\u001b[0mresize\u001b[0m\u001b[0;34m(\u001b[0m\u001b[0mimg\u001b[0m\u001b[0;34m,\u001b[0m \u001b[0;34m(\u001b[0m\u001b[0;36m600\u001b[0m\u001b[0;34m,\u001b[0m \u001b[0;36m300\u001b[0m\u001b[0;34m)\u001b[0m\u001b[0;34m)\u001b[0m\u001b[0;34m\u001b[0m\u001b[0;34m\u001b[0m\u001b[0m\n\u001b[0m\u001b[1;32m      9\u001b[0m \u001b[0;31m# 크기 변경한 이미지 저장하기\u001b[0m\u001b[0;34m\u001b[0m\u001b[0;34m\u001b[0m\u001b[0;34m\u001b[0m\u001b[0m\n\u001b[1;32m     10\u001b[0m \u001b[0mplt\u001b[0m\u001b[0;34m.\u001b[0m\u001b[0mimshow\u001b[0m\u001b[0;34m(\u001b[0m\u001b[0mcv2\u001b[0m\u001b[0;34m.\u001b[0m\u001b[0mcvtColor\u001b[0m\u001b[0;34m(\u001b[0m\u001b[0mim2\u001b[0m\u001b[0;34m,\u001b[0m \u001b[0mcv2\u001b[0m\u001b[0;34m.\u001b[0m\u001b[0mCOLOR_BGR2RGB\u001b[0m\u001b[0;34m)\u001b[0m\u001b[0;34m)\u001b[0m\u001b[0;34m\u001b[0m\u001b[0;34m\u001b[0m\u001b[0m\n",
            "\u001b[0;31merror\u001b[0m: OpenCV(4.1.2) /io/opencv/modules/imgproc/src/resize.cpp:3720: error: (-215:Assertion failed) !ssize.empty() in function 'resize'\n"
          ]
        }
      ]
    },
    {
      "cell_type": "code",
      "metadata": {
        "colab": {
          "base_uri": "https://localhost:8080/",
          "height": 257
        },
        "id": "DokUIGuv220l",
        "outputId": "a54a9b26-8546-4ccd-a630-0d9269630782"
      },
      "source": [
        "# 이미지 크기 변경\n",
        "\n",
        "import matplotlib.pyplot as plt\n",
        "import cv2\n",
        "\n",
        "# 이미지 불러오기 \n",
        "img = cv2.imread(\"test.jpg\")\n",
        "# 이미지 크기 변경하기 \n",
        "im2 = cv2.resize(img, (600, 300)) # resize(img, (width, height))\n",
        "# 크기 변경한 이미지 저장하기 \n",
        "cv2.imwrite(\"out-resize.png\", im2)\n",
        "\n",
        "# 이미지 출력하기 \n",
        "plt.imshow(cv2.cvtColor(im2, cv2.COLOR_BGR2RGB))\n",
        "plt.show()"
      ],
      "execution_count": null,
      "outputs": [
        {
          "output_type": "error",
          "ename": "error",
          "evalue": "ignored",
          "traceback": [
            "\u001b[0;31m---------------------------------------------------------------------------\u001b[0m",
            "\u001b[0;31merror\u001b[0m                                     Traceback (most recent call last)",
            "\u001b[0;32m<ipython-input-66-8ce63fc042e0>\u001b[0m in \u001b[0;36m<module>\u001b[0;34m()\u001b[0m\n\u001b[1;32m      7\u001b[0m \u001b[0mimg\u001b[0m \u001b[0;34m=\u001b[0m \u001b[0mcv2\u001b[0m\u001b[0;34m.\u001b[0m\u001b[0mimread\u001b[0m\u001b[0;34m(\u001b[0m\u001b[0;34m\"test.jpg\"\u001b[0m\u001b[0;34m)\u001b[0m\u001b[0;34m\u001b[0m\u001b[0;34m\u001b[0m\u001b[0m\n\u001b[1;32m      8\u001b[0m \u001b[0;31m# 이미지 크기 변경하기\u001b[0m\u001b[0;34m\u001b[0m\u001b[0;34m\u001b[0m\u001b[0;34m\u001b[0m\u001b[0m\n\u001b[0;32m----> 9\u001b[0;31m \u001b[0mim2\u001b[0m \u001b[0;34m=\u001b[0m \u001b[0mcv2\u001b[0m\u001b[0;34m.\u001b[0m\u001b[0mresize\u001b[0m\u001b[0;34m(\u001b[0m\u001b[0mimg\u001b[0m\u001b[0;34m,\u001b[0m \u001b[0;34m(\u001b[0m\u001b[0;36m600\u001b[0m\u001b[0;34m,\u001b[0m \u001b[0;36m300\u001b[0m\u001b[0;34m)\u001b[0m\u001b[0;34m)\u001b[0m\u001b[0;34m\u001b[0m\u001b[0;34m\u001b[0m\u001b[0m\n\u001b[0m\u001b[1;32m     10\u001b[0m \u001b[0;31m# 크기 변경한 이미지 저장하기\u001b[0m\u001b[0;34m\u001b[0m\u001b[0;34m\u001b[0m\u001b[0;34m\u001b[0m\u001b[0m\n\u001b[1;32m     11\u001b[0m \u001b[0mcv2\u001b[0m\u001b[0;34m.\u001b[0m\u001b[0mimwrite\u001b[0m\u001b[0;34m(\u001b[0m\u001b[0;34m\"out-resize.png\"\u001b[0m\u001b[0;34m,\u001b[0m \u001b[0mim2\u001b[0m\u001b[0;34m)\u001b[0m\u001b[0;34m\u001b[0m\u001b[0;34m\u001b[0m\u001b[0m\n",
            "\u001b[0;31merror\u001b[0m: OpenCV(4.1.2) /io/opencv/modules/imgproc/src/resize.cpp:3720: error: (-215:Assertion failed) !ssize.empty() in function 'resize'\n"
          ]
        }
      ]
    },
    {
      "cell_type": "code",
      "metadata": {
        "colab": {
          "base_uri": "https://localhost:8080/",
          "height": 239
        },
        "id": "_H6GxW-t4FLC",
        "outputId": "5f37da01-f316-4888-a045-d1b3843d6102"
      },
      "source": [
        "# 이미지 자르기 \n",
        "import matplotlib.pyplot as plt\n",
        "import cv2 \n",
        "\n",
        "# 이미지 불러오기 \n",
        "img = cv2.imread(\"test.jpg\")\n",
        "# 이미지 자르기 \n",
        "im2 = img[150:450, 150:450]\n",
        "# 이미지 크기 변경하기 \n",
        "im2 = cv2.resize(im2, (400, 400))\n",
        "# 크기 변경한 이미지 저장하기 \n",
        "cv2.imwrite(\"cut-resize.png\", im2)\n",
        "\n",
        "# 이미지 출력하기 \n",
        "plt.imshow(cv2.cvtColor(im2, cv2.COLOR_BGR2RGB))\n",
        "plt.show()"
      ],
      "execution_count": null,
      "outputs": [
        {
          "output_type": "error",
          "ename": "TypeError",
          "evalue": "ignored",
          "traceback": [
            "\u001b[0;31m---------------------------------------------------------------------------\u001b[0m",
            "\u001b[0;31mTypeError\u001b[0m                                 Traceback (most recent call last)",
            "\u001b[0;32m<ipython-input-68-6f407781ecee>\u001b[0m in \u001b[0;36m<module>\u001b[0;34m()\u001b[0m\n\u001b[1;32m      6\u001b[0m \u001b[0mimg\u001b[0m \u001b[0;34m=\u001b[0m \u001b[0mcv2\u001b[0m\u001b[0;34m.\u001b[0m\u001b[0mimread\u001b[0m\u001b[0;34m(\u001b[0m\u001b[0;34m\"test.jpg\"\u001b[0m\u001b[0;34m)\u001b[0m\u001b[0;34m\u001b[0m\u001b[0;34m\u001b[0m\u001b[0m\n\u001b[1;32m      7\u001b[0m \u001b[0;31m# 이미지 자르기\u001b[0m\u001b[0;34m\u001b[0m\u001b[0;34m\u001b[0m\u001b[0;34m\u001b[0m\u001b[0m\n\u001b[0;32m----> 8\u001b[0;31m \u001b[0mim2\u001b[0m \u001b[0;34m=\u001b[0m \u001b[0mimg\u001b[0m\u001b[0;34m[\u001b[0m\u001b[0;36m150\u001b[0m\u001b[0;34m:\u001b[0m\u001b[0;34m,\u001b[0m \u001b[0;36m150\u001b[0m\u001b[0;34m:\u001b[0m\u001b[0;34m]\u001b[0m\u001b[0;34m\u001b[0m\u001b[0;34m\u001b[0m\u001b[0m\n\u001b[0m\u001b[1;32m      9\u001b[0m \u001b[0;31m# 이미지 크기 변경하기\u001b[0m\u001b[0;34m\u001b[0m\u001b[0;34m\u001b[0m\u001b[0;34m\u001b[0m\u001b[0m\n\u001b[1;32m     10\u001b[0m \u001b[0mim2\u001b[0m \u001b[0;34m=\u001b[0m \u001b[0mcv2\u001b[0m\u001b[0;34m.\u001b[0m\u001b[0mresize\u001b[0m\u001b[0;34m(\u001b[0m\u001b[0mim2\u001b[0m\u001b[0;34m,\u001b[0m \u001b[0;34m(\u001b[0m\u001b[0;36m400\u001b[0m\u001b[0;34m,\u001b[0m \u001b[0;36m400\u001b[0m\u001b[0;34m)\u001b[0m\u001b[0;34m)\u001b[0m\u001b[0;34m\u001b[0m\u001b[0;34m\u001b[0m\u001b[0m\n",
            "\u001b[0;31mTypeError\u001b[0m: 'NoneType' object is not subscriptable"
          ]
        }
      ]
    },
    {
      "cell_type": "code",
      "metadata": {
        "id": "iLojPEbo447p"
      },
      "source": [
        "#################################################\n",
        "# 얼굴 검출 - 자동으로 얼굴에 모자이크 처리하기 #\n",
        "#################################################"
      ],
      "execution_count": null,
      "outputs": []
    },
    {
      "cell_type": "code",
      "metadata": {
        "colab": {
          "base_uri": "https://localhost:8080/",
          "height": 286
        },
        "id": "fVCOf0rX5YHH",
        "outputId": "daa11d58-f602-4b97-f7b3-8f37ca1e0c98"
      },
      "source": [
        "# 얼굴 검출 프로그램 만들기 \n",
        "import matplotlib.pyplot as plt\n",
        "import cv2\n",
        "\n",
        "# 캐스케이드 파일 지정해서 얼굴 검출기 생성하기   \n",
        "cascade_file = \"haarcascade_frontalface_alt.xml\"\n",
        "cascade = cv2.CascadeClassifier(cascade_file)\n",
        "\n",
        "# 이미지를 읽어들이고 그레이스케일로 변환하기 \n",
        "img = cv2.imread(\"girl.jpg\")\n",
        "img_gray = cv2.cvtColor(img, cv2.COLOR_BGR2GRAY)\n",
        "\n",
        "# 얼굴 인식하기 \n",
        "face_list = cascade.detectMultiScale(img_gray, minSize = (150, 150))\n",
        "\n",
        "# 결과 확인하기 \n",
        "if len(face_list) == 0:\n",
        "  print(\"실패\")\n",
        "  quit()\n",
        "\n",
        "# 인식한 부분 표시하기 \n",
        "for (x, y, w, h) in face_list:\n",
        "  print(\"얼굴의 좌표 =\", x, y, w, h)\n",
        "  red = (0,0,255)\n",
        "  cv2.rectangle(img, (x,y), (x+w, y+h), red, thickness = 20)\n",
        "\n",
        "# 이미지 출력하기 \n",
        "cv2.imwrite(\"face-detect.png\", img)\n",
        "plt.imshow(cv2.cvtColor(img,cv2.COLOR_BGR2RGB))\n",
        "plt.show()"
      ],
      "execution_count": null,
      "outputs": [
        {
          "output_type": "stream",
          "text": [
            "얼굴의 좌표 = 319 308 405 405\n"
          ],
          "name": "stdout"
        },
        {
          "output_type": "display_data",
          "data": {
            "image/png": "[encoded data removed]",
            "text/plain": [
              "<Figure size 432x288 with 1 Axes>"
            ]
          },
          "metadata": {
            "tags": [],
            "needs_background": "light"
          }
        }
      ]
    },
    {
      "cell_type": "code",
      "metadata": {
        "colab": {
          "base_uri": "https://localhost:8080/",
          "height": 339
        },
        "id": "fJVJezy98jlE",
        "outputId": "aa65417c-148d-46ae-a00d-255968ce0732"
      },
      "source": [
        "# 일론 머스크 사진에서 얼굴 찾기\n",
        "\n",
        "# 이미지를 읽어들이고 그레이스케일로 변환하기 \n",
        "img = cv2.imread(\"dogepapa.jpg\")\n",
        "img_gray = cv2.cvtColor(img, cv2.COLOR_BGR2GRAY)\n",
        "\n",
        "# 얼굴 인식하기 \n",
        "face_list = cascade.detectMultiScale(img_gray, minSize = (150, 150))\n",
        "\n",
        "# 결과 확인하기 \n",
        "if len(face_list) == 0:\n",
        "  print(\"실패\")\n",
        "  quit()\n",
        "\n",
        "# 인식한 부분 표시하기 \n",
        "for (x, y, w, h) in face_list:\n",
        "  print(\"얼굴의 좌표 =\", x, y, w, h)\n",
        "  red = (0,0,255)\n",
        "  cv2.rectangle(img, (x,y), (x+w, y+h), red, thickness = 20)\n",
        "\n",
        "# 이미지 출력하기 \n",
        "cv2.imwrite(\"face-detect2.png\", img)\n",
        "plt.imshow(cv2.cvtColor(img,cv2.COLOR_BGR2RGB))\n",
        "plt.show()"
      ],
      "execution_count": null,
      "outputs": [
        {
          "output_type": "stream",
          "text": [
            "얼굴의 좌표 = 1007 176 187 187\n",
            "얼굴의 좌표 = 1915 342 195 195\n",
            "얼굴의 좌표 = 332 366 184 184\n",
            "얼굴의 좌표 = 1584 379 181 181\n"
          ],
          "name": "stdout"
        },
        {
          "output_type": "display_data",
          "data": {
            "image/png": "[encoded data removed]",
            "text/plain": [
              "<Figure size 432x288 with 1 Axes>"
            ]
          },
          "metadata": {
            "tags": [],
            "needs_background": "light"
          }
        }
      ]
    },
    {
      "cell_type": "code",
      "metadata": {
        "id": "t9t9ylvG94gl"
      },
      "source": [
        ""
      ],
      "execution_count": null,
      "outputs": []
    }
  ]
}